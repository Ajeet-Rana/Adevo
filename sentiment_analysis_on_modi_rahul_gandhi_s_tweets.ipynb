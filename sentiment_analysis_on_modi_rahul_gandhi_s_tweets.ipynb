{
  "cells": [
    {
      "cell_type": "markdown",
      "metadata": {
        "id": "view-in-github",
        "colab_type": "text"
      },
      "source": [
        "<a href=\"https://colab.research.google.com/github/Ajeet-Rana/Adevo/blob/main/sentiment_analysis_on_modi_rahul_gandhi_s_tweets.ipynb\" target=\"_parent\"><img src=\"https://colab.research.google.com/assets/colab-badge.svg\" alt=\"Open In Colab\"/></a>"
      ]
    },
    {
      "cell_type": "markdown",
      "id": "991d480d",
      "metadata": {
        "execution": {
          "iopub.execute_input": "2023-01-29T04:47:08.510241Z",
          "iopub.status.busy": "2023-01-29T04:47:08.509797Z",
          "iopub.status.idle": "2023-01-29T04:47:08.517767Z",
          "shell.execute_reply": "2023-01-29T04:47:08.516135Z",
          "shell.execute_reply.started": "2023-01-29T04:47:08.510203Z"
        },
        "papermill": {
          "duration": 0.019564,
          "end_time": "2023-06-22T14:25:13.632882",
          "exception": false,
          "start_time": "2023-06-22T14:25:13.613318",
          "status": "completed"
        },
        "tags": [],
        "id": "991d480d"
      },
      "source": [
        "<center>\n",
        "<img src=\"https://gumlet.assettype.com/newslaundry/import/2017/10/Bots-behind-rise-in-Rahul-Gandhis-twitter-popularity.jpg?w=1200&h=750\" width=800>\n",
        "</center>"
      ]
    },
    {
      "cell_type": "markdown",
      "id": "02b4cd2d",
      "metadata": {
        "papermill": {
          "duration": 0.016786,
          "end_time": "2023-06-22T14:25:13.668031",
          "exception": false,
          "start_time": "2023-06-22T14:25:13.651245",
          "status": "completed"
        },
        "tags": [],
        "id": "02b4cd2d"
      },
      "source": [
        "<a id=\"top\"></a>"
      ]
    },
    {
      "cell_type": "markdown",
      "id": "465de342",
      "metadata": {
        "papermill": {
          "duration": 0.016751,
          "end_time": "2023-06-22T14:25:13.704398",
          "exception": false,
          "start_time": "2023-06-22T14:25:13.687647",
          "status": "completed"
        },
        "tags": [],
        "id": "465de342"
      },
      "source": [
        "___\n",
        "<span style=\"color: purple;\">We are doing sentiment analysis on tweets of two powerful politician of India i.e. Narendra Modi & Rahul Gandhi. <br/>\n",
        "    <a href=\"https://www.kaggle.com/datasets/yogesh239/twitter-data-about-2019-indian-general-election\" target=\"_blank\">Tweets Data</a> that we are using covers the tweets between  1st Jan, 2019 to 19th May, 2019 which is the period of <b>General Election in India</b> which are held in every 5 years. So Narendra Modi was the PM at that moment and Rahul Gandhi was leader of opposition & the PM candidate of opposition party.  \n",
        "     So we are doing the sentiment analysis of the tweets from PM candidate related to elections so as to come up with some insights.\n",
        "     Lets jump into it.</span>\n",
        "___"
      ]
    },
    {
      "cell_type": "markdown",
      "id": "cf19190b",
      "metadata": {
        "papermill": {
          "duration": 0.018144,
          "end_time": "2023-06-22T14:25:13.739748",
          "exception": false,
          "start_time": "2023-06-22T14:25:13.721604",
          "status": "completed"
        },
        "tags": [],
        "id": "cf19190b"
      },
      "source": [
        "# <p style=\"background-color:skyblue;font-family:newtimeroman;font-size:200%;text-align:center;border-style: solid;border-color: black;border-radius: 15px 15px;\">🧾INDEX</p>"
      ]
    },
    {
      "cell_type": "markdown",
      "id": "d2ad29c7",
      "metadata": {
        "papermill": {
          "duration": 0.016828,
          "end_time": "2023-06-22T14:25:13.775220",
          "exception": false,
          "start_time": "2023-06-22T14:25:13.758392",
          "status": "completed"
        },
        "tags": [],
        "id": "d2ad29c7"
      },
      "source": [
        "​\n",
        "* [Importing the Libraries](#h1)\n",
        "   * [Setting up the basic code snippets for sentiment models](#h1.1)<br/>\n",
        "* [Data Loading & Cleaning](#h2)<br/>\n",
        "   * [Remove stopwords from tweets](#h2.1)\n",
        "* [Sentiment For Modi's Tweets](#h3)\n",
        "   * [Using Bert](#h3.1)<br/>\n",
        "   * [Using Vader Sentiment](#h3.2)<br/>\n",
        "   * [Using TextBlob](#h3.3)<br/>\n",
        "* [Sentiment For Rahul Gandhi's Tweets](#h4)\n",
        "   * [Using Bert](#h4.1)<br/>\n",
        "   * [Using Vader Sentiment](#h4.2)<br/>\n",
        "   * [Using TextBlob](#h4.3)<br/>\n",
        "* [Comparative Study of Tweets sentiments of tweets from Narendra Modi & Rahul Gandhi](#h5)  \n",
        "* [Conclusion](#h6)\n",
        "---"
      ]
    },
    {
      "cell_type": "markdown",
      "id": "025c30a6",
      "metadata": {
        "papermill": {
          "duration": 0.016879,
          "end_time": "2023-06-22T14:25:13.810013",
          "exception": false,
          "start_time": "2023-06-22T14:25:13.793134",
          "status": "completed"
        },
        "tags": [],
        "id": "025c30a6"
      },
      "source": [
        "<div style=\"border-radius:10px;\n",
        "            border :#0A0104 solid;\n",
        "            padding: 15px;\n",
        "            background-color:#FFF0F5   ;\n",
        "           font-size:110%;\n",
        "            text-align: left\">\n",
        "Different libraries used for sentiment analysis\n",
        "<ul>\n",
        "    <li>Bert</li>\n",
        "    <li>TextBlob</li>\n",
        "    <li>Vader Sentiment</li>\n",
        "</ul>"
      ]
    },
    {
      "cell_type": "markdown",
      "id": "7789523e",
      "metadata": {
        "papermill": {
          "duration": 0.016831,
          "end_time": "2023-06-22T14:25:13.844153",
          "exception": false,
          "start_time": "2023-06-22T14:25:13.827322",
          "status": "completed"
        },
        "tags": [],
        "id": "7789523e"
      },
      "source": [
        "<div style=\"border-radius:10px;\n",
        "        border :#0A0104 solid;\n",
        "        padding: 15px;\n",
        "        background-color:#E9F6E2;\n",
        "       font-size:110%;\n",
        "        text-align: left\">\n",
        " <span style=\"color:'blue' ;\"><center>BERT (Bidirectional Encoder Representations from Transformers) is a cutting-edge machine learning model used for NLP tasks such as text classification, sentiment analysis, text summarization, and so on.</center><br><center>TextBlob is a simple library which supports complex analysis and operations on textual data.</center><br>\n",
        "    <center>VADER (Valence Aware Dictionary and sEntiment Reasoner) is a lexicon and rule-based sentiment analysis tool that is tuned to social media sentiments but also works well on texts from other domains.</center>\n",
        "    </span>"
      ]
    },
    {
      "cell_type": "markdown",
      "id": "d08955d3",
      "metadata": {
        "papermill": {
          "duration": 0.017588,
          "end_time": "2023-06-22T14:25:13.879896",
          "exception": false,
          "start_time": "2023-06-22T14:25:13.862308",
          "status": "completed"
        },
        "tags": [],
        "id": "d08955d3"
      },
      "source": [
        "<a id=\"h1\"></a>"
      ]
    },
    {
      "cell_type": "markdown",
      "id": "ba066912",
      "metadata": {
        "papermill": {
          "duration": 0.016895,
          "end_time": "2023-06-22T14:25:13.914151",
          "exception": false,
          "start_time": "2023-06-22T14:25:13.897256",
          "status": "completed"
        },
        "tags": [],
        "id": "ba066912"
      },
      "source": [
        "# <p style=\"background-color:skyblue;font-family:newtimeroman;font-size:180%;text-align:center;border-style: solid;border-color: black;border-radius: 15px 15px;\">1. Importing the Libraries 📚</p>"
      ]
    },
    {
      "cell_type": "markdown",
      "id": "1b61b9a6",
      "metadata": {
        "papermill": {
          "duration": 0.01692,
          "end_time": "2023-06-22T14:25:13.948424",
          "exception": false,
          "start_time": "2023-06-22T14:25:13.931504",
          "status": "completed"
        },
        "tags": [],
        "id": "1b61b9a6"
      },
      "source": [
        "## <span style=\"font-family:Comic Sans MS; color:blue\">Setting the notebook theme</span>"
      ]
    },
    {
      "cell_type": "code",
      "execution_count": 1,
      "id": "04760d3b",
      "metadata": {
        "_kg_hide-output": true,
        "execution": {
          "iopub.execute_input": "2023-06-22T14:25:13.987301Z",
          "iopub.status.busy": "2023-06-22T14:25:13.986731Z",
          "iopub.status.idle": "2023-06-22T14:25:32.414159Z",
          "shell.execute_reply": "2023-06-22T14:25:32.412370Z"
        },
        "papermill": {
          "duration": 18.45163,
          "end_time": "2023-06-22T14:25:32.417995",
          "exception": false,
          "start_time": "2023-06-22T14:25:13.966365",
          "status": "completed"
        },
        "scrolled": true,
        "tags": [],
        "colab": {
          "base_uri": "https://localhost:8080/"
        },
        "id": "04760d3b",
        "outputId": "2359b497-a670-4266-f6c9-82c87cc2970a"
      },
      "outputs": [
        {
          "output_type": "stream",
          "name": "stdout",
          "text": [
            "Collecting jupyterthemes\n",
            "  Downloading jupyterthemes-0.20.0-py2.py3-none-any.whl.metadata (1.0 kB)\n",
            "Requirement already satisfied: jupyter-core in /usr/local/lib/python3.10/dist-packages (from jupyterthemes) (5.7.2)\n",
            "Requirement already satisfied: notebook>=5.6.0 in /usr/local/lib/python3.10/dist-packages (from jupyterthemes) (6.5.5)\n",
            "Requirement already satisfied: ipython>=5.4.1 in /usr/local/lib/python3.10/dist-packages (from jupyterthemes) (7.34.0)\n",
            "Requirement already satisfied: matplotlib>=1.4.3 in /usr/local/lib/python3.10/dist-packages (from jupyterthemes) (3.8.0)\n",
            "Collecting lesscpy>=0.11.2 (from jupyterthemes)\n",
            "  Downloading lesscpy-0.15.1-py2.py3-none-any.whl.metadata (6.0 kB)\n",
            "Requirement already satisfied: setuptools>=18.5 in /usr/local/lib/python3.10/dist-packages (from ipython>=5.4.1->jupyterthemes) (75.1.0)\n",
            "Collecting jedi>=0.16 (from ipython>=5.4.1->jupyterthemes)\n",
            "  Downloading jedi-0.19.2-py2.py3-none-any.whl.metadata (22 kB)\n",
            "Requirement already satisfied: decorator in /usr/local/lib/python3.10/dist-packages (from ipython>=5.4.1->jupyterthemes) (4.4.2)\n",
            "Requirement already satisfied: pickleshare in /usr/local/lib/python3.10/dist-packages (from ipython>=5.4.1->jupyterthemes) (0.7.5)\n",
            "Requirement already satisfied: traitlets>=4.2 in /usr/local/lib/python3.10/dist-packages (from ipython>=5.4.1->jupyterthemes) (5.7.1)\n",
            "Requirement already satisfied: prompt-toolkit!=3.0.0,!=3.0.1,<3.1.0,>=2.0.0 in /usr/local/lib/python3.10/dist-packages (from ipython>=5.4.1->jupyterthemes) (3.0.48)\n",
            "Requirement already satisfied: pygments in /usr/local/lib/python3.10/dist-packages (from ipython>=5.4.1->jupyterthemes) (2.18.0)\n",
            "Requirement already satisfied: backcall in /usr/local/lib/python3.10/dist-packages (from ipython>=5.4.1->jupyterthemes) (0.2.0)\n",
            "Requirement already satisfied: matplotlib-inline in /usr/local/lib/python3.10/dist-packages (from ipython>=5.4.1->jupyterthemes) (0.1.7)\n",
            "Requirement already satisfied: pexpect>4.3 in /usr/local/lib/python3.10/dist-packages (from ipython>=5.4.1->jupyterthemes) (4.9.0)\n",
            "Collecting ply (from lesscpy>=0.11.2->jupyterthemes)\n",
            "  Downloading ply-3.11-py2.py3-none-any.whl.metadata (844 bytes)\n",
            "Requirement already satisfied: contourpy>=1.0.1 in /usr/local/lib/python3.10/dist-packages (from matplotlib>=1.4.3->jupyterthemes) (1.3.0)\n",
            "Requirement already satisfied: cycler>=0.10 in /usr/local/lib/python3.10/dist-packages (from matplotlib>=1.4.3->jupyterthemes) (0.12.1)\n",
            "Requirement already satisfied: fonttools>=4.22.0 in /usr/local/lib/python3.10/dist-packages (from matplotlib>=1.4.3->jupyterthemes) (4.54.1)\n",
            "Requirement already satisfied: kiwisolver>=1.0.1 in /usr/local/lib/python3.10/dist-packages (from matplotlib>=1.4.3->jupyterthemes) (1.4.7)\n",
            "Requirement already satisfied: numpy<2,>=1.21 in /usr/local/lib/python3.10/dist-packages (from matplotlib>=1.4.3->jupyterthemes) (1.26.4)\n",
            "Requirement already satisfied: packaging>=20.0 in /usr/local/lib/python3.10/dist-packages (from matplotlib>=1.4.3->jupyterthemes) (24.2)\n",
            "Requirement already satisfied: pillow>=6.2.0 in /usr/local/lib/python3.10/dist-packages (from matplotlib>=1.4.3->jupyterthemes) (11.0.0)\n",
            "Requirement already satisfied: pyparsing>=2.3.1 in /usr/local/lib/python3.10/dist-packages (from matplotlib>=1.4.3->jupyterthemes) (3.2.0)\n",
            "Requirement already satisfied: python-dateutil>=2.7 in /usr/local/lib/python3.10/dist-packages (from matplotlib>=1.4.3->jupyterthemes) (2.8.2)\n",
            "Requirement already satisfied: jinja2 in /usr/local/lib/python3.10/dist-packages (from notebook>=5.6.0->jupyterthemes) (3.1.4)\n",
            "Requirement already satisfied: tornado>=6.1 in /usr/local/lib/python3.10/dist-packages (from notebook>=5.6.0->jupyterthemes) (6.3.3)\n",
            "Requirement already satisfied: pyzmq<25,>=17 in /usr/local/lib/python3.10/dist-packages (from notebook>=5.6.0->jupyterthemes) (24.0.1)\n",
            "Requirement already satisfied: argon2-cffi in /usr/local/lib/python3.10/dist-packages (from notebook>=5.6.0->jupyterthemes) (23.1.0)\n",
            "Requirement already satisfied: jupyter-client<8,>=5.3.4 in /usr/local/lib/python3.10/dist-packages (from notebook>=5.6.0->jupyterthemes) (6.1.12)\n",
            "Requirement already satisfied: ipython-genutils in /usr/local/lib/python3.10/dist-packages (from notebook>=5.6.0->jupyterthemes) (0.2.0)\n",
            "Requirement already satisfied: nbformat in /usr/local/lib/python3.10/dist-packages (from notebook>=5.6.0->jupyterthemes) (5.10.4)\n",
            "Requirement already satisfied: nbconvert>=5 in /usr/local/lib/python3.10/dist-packages (from notebook>=5.6.0->jupyterthemes) (7.16.4)\n",
            "Requirement already satisfied: nest-asyncio>=1.5 in /usr/local/lib/python3.10/dist-packages (from notebook>=5.6.0->jupyterthemes) (1.6.0)\n",
            "Requirement already satisfied: ipykernel in /usr/local/lib/python3.10/dist-packages (from notebook>=5.6.0->jupyterthemes) (5.5.6)\n",
            "Requirement already satisfied: Send2Trash>=1.8.0 in /usr/local/lib/python3.10/dist-packages (from notebook>=5.6.0->jupyterthemes) (1.8.3)\n",
            "Requirement already satisfied: terminado>=0.8.3 in /usr/local/lib/python3.10/dist-packages (from notebook>=5.6.0->jupyterthemes) (0.18.1)\n",
            "Requirement already satisfied: prometheus-client in /usr/local/lib/python3.10/dist-packages (from notebook>=5.6.0->jupyterthemes) (0.21.0)\n",
            "Requirement already satisfied: nbclassic>=0.4.7 in /usr/local/lib/python3.10/dist-packages (from notebook>=5.6.0->jupyterthemes) (1.1.0)\n",
            "Requirement already satisfied: platformdirs>=2.5 in /usr/local/lib/python3.10/dist-packages (from jupyter-core->jupyterthemes) (4.3.6)\n",
            "Requirement already satisfied: parso<0.9.0,>=0.8.4 in /usr/local/lib/python3.10/dist-packages (from jedi>=0.16->ipython>=5.4.1->jupyterthemes) (0.8.4)\n",
            "Requirement already satisfied: notebook-shim>=0.2.3 in /usr/local/lib/python3.10/dist-packages (from nbclassic>=0.4.7->notebook>=5.6.0->jupyterthemes) (0.2.4)\n",
            "Requirement already satisfied: beautifulsoup4 in /usr/local/lib/python3.10/dist-packages (from nbconvert>=5->notebook>=5.6.0->jupyterthemes) (4.12.3)\n",
            "Requirement already satisfied: bleach!=5.0.0 in /usr/local/lib/python3.10/dist-packages (from nbconvert>=5->notebook>=5.6.0->jupyterthemes) (6.2.0)\n",
            "Requirement already satisfied: defusedxml in /usr/local/lib/python3.10/dist-packages (from nbconvert>=5->notebook>=5.6.0->jupyterthemes) (0.7.1)\n",
            "Requirement already satisfied: jupyterlab-pygments in /usr/local/lib/python3.10/dist-packages (from nbconvert>=5->notebook>=5.6.0->jupyterthemes) (0.3.0)\n",
            "Requirement already satisfied: markupsafe>=2.0 in /usr/local/lib/python3.10/dist-packages (from nbconvert>=5->notebook>=5.6.0->jupyterthemes) (3.0.2)\n",
            "Requirement already satisfied: mistune<4,>=2.0.3 in /usr/local/lib/python3.10/dist-packages (from nbconvert>=5->notebook>=5.6.0->jupyterthemes) (3.0.2)\n",
            "Requirement already satisfied: nbclient>=0.5.0 in /usr/local/lib/python3.10/dist-packages (from nbconvert>=5->notebook>=5.6.0->jupyterthemes) (0.10.0)\n",
            "Requirement already satisfied: pandocfilters>=1.4.1 in /usr/local/lib/python3.10/dist-packages (from nbconvert>=5->notebook>=5.6.0->jupyterthemes) (1.5.1)\n",
            "Requirement already satisfied: tinycss2 in /usr/local/lib/python3.10/dist-packages (from nbconvert>=5->notebook>=5.6.0->jupyterthemes) (1.4.0)\n",
            "Requirement already satisfied: fastjsonschema>=2.15 in /usr/local/lib/python3.10/dist-packages (from nbformat->notebook>=5.6.0->jupyterthemes) (2.20.0)\n",
            "Requirement already satisfied: jsonschema>=2.6 in /usr/local/lib/python3.10/dist-packages (from nbformat->notebook>=5.6.0->jupyterthemes) (4.23.0)\n",
            "Requirement already satisfied: ptyprocess>=0.5 in /usr/local/lib/python3.10/dist-packages (from pexpect>4.3->ipython>=5.4.1->jupyterthemes) (0.7.0)\n",
            "Requirement already satisfied: wcwidth in /usr/local/lib/python3.10/dist-packages (from prompt-toolkit!=3.0.0,!=3.0.1,<3.1.0,>=2.0.0->ipython>=5.4.1->jupyterthemes) (0.2.13)\n",
            "Requirement already satisfied: six>=1.5 in /usr/local/lib/python3.10/dist-packages (from python-dateutil>=2.7->matplotlib>=1.4.3->jupyterthemes) (1.16.0)\n",
            "Requirement already satisfied: argon2-cffi-bindings in /usr/local/lib/python3.10/dist-packages (from argon2-cffi->notebook>=5.6.0->jupyterthemes) (21.2.0)\n",
            "Requirement already satisfied: webencodings in /usr/local/lib/python3.10/dist-packages (from bleach!=5.0.0->nbconvert>=5->notebook>=5.6.0->jupyterthemes) (0.5.1)\n",
            "Requirement already satisfied: attrs>=22.2.0 in /usr/local/lib/python3.10/dist-packages (from jsonschema>=2.6->nbformat->notebook>=5.6.0->jupyterthemes) (24.2.0)\n",
            "Requirement already satisfied: jsonschema-specifications>=2023.03.6 in /usr/local/lib/python3.10/dist-packages (from jsonschema>=2.6->nbformat->notebook>=5.6.0->jupyterthemes) (2024.10.1)\n",
            "Requirement already satisfied: referencing>=0.28.4 in /usr/local/lib/python3.10/dist-packages (from jsonschema>=2.6->nbformat->notebook>=5.6.0->jupyterthemes) (0.35.1)\n",
            "Requirement already satisfied: rpds-py>=0.7.1 in /usr/local/lib/python3.10/dist-packages (from jsonschema>=2.6->nbformat->notebook>=5.6.0->jupyterthemes) (0.21.0)\n",
            "Requirement already satisfied: jupyter-server<3,>=1.8 in /usr/local/lib/python3.10/dist-packages (from notebook-shim>=0.2.3->nbclassic>=0.4.7->notebook>=5.6.0->jupyterthemes) (1.24.0)\n",
            "Requirement already satisfied: cffi>=1.0.1 in /usr/local/lib/python3.10/dist-packages (from argon2-cffi-bindings->argon2-cffi->notebook>=5.6.0->jupyterthemes) (1.17.1)\n",
            "Requirement already satisfied: soupsieve>1.2 in /usr/local/lib/python3.10/dist-packages (from beautifulsoup4->nbconvert>=5->notebook>=5.6.0->jupyterthemes) (2.6)\n",
            "Requirement already satisfied: pycparser in /usr/local/lib/python3.10/dist-packages (from cffi>=1.0.1->argon2-cffi-bindings->argon2-cffi->notebook>=5.6.0->jupyterthemes) (2.22)\n",
            "Requirement already satisfied: anyio<4,>=3.1.0 in /usr/local/lib/python3.10/dist-packages (from jupyter-server<3,>=1.8->notebook-shim>=0.2.3->nbclassic>=0.4.7->notebook>=5.6.0->jupyterthemes) (3.7.1)\n",
            "Requirement already satisfied: websocket-client in /usr/local/lib/python3.10/dist-packages (from jupyter-server<3,>=1.8->notebook-shim>=0.2.3->nbclassic>=0.4.7->notebook>=5.6.0->jupyterthemes) (1.8.0)\n",
            "Requirement already satisfied: idna>=2.8 in /usr/local/lib/python3.10/dist-packages (from anyio<4,>=3.1.0->jupyter-server<3,>=1.8->notebook-shim>=0.2.3->nbclassic>=0.4.7->notebook>=5.6.0->jupyterthemes) (3.10)\n",
            "Requirement already satisfied: sniffio>=1.1 in /usr/local/lib/python3.10/dist-packages (from anyio<4,>=3.1.0->jupyter-server<3,>=1.8->notebook-shim>=0.2.3->nbclassic>=0.4.7->notebook>=5.6.0->jupyterthemes) (1.3.1)\n",
            "Requirement already satisfied: exceptiongroup in /usr/local/lib/python3.10/dist-packages (from anyio<4,>=3.1.0->jupyter-server<3,>=1.8->notebook-shim>=0.2.3->nbclassic>=0.4.7->notebook>=5.6.0->jupyterthemes) (1.2.2)\n",
            "Downloading jupyterthemes-0.20.0-py2.py3-none-any.whl (7.0 MB)\n",
            "\u001b[2K   \u001b[90m━━━━━━━━━━━━━━━━━━━━━━━━━━━━━━━━━━━━━━━━\u001b[0m \u001b[32m7.0/7.0 MB\u001b[0m \u001b[31m41.5 MB/s\u001b[0m eta \u001b[36m0:00:00\u001b[0m\n",
            "\u001b[?25hDownloading lesscpy-0.15.1-py2.py3-none-any.whl (46 kB)\n",
            "\u001b[2K   \u001b[90m━━━━━━━━━━━━━━━━━━━━━━━━━━━━━━━━━━━━━━━━\u001b[0m \u001b[32m46.7/46.7 kB\u001b[0m \u001b[31m3.9 MB/s\u001b[0m eta \u001b[36m0:00:00\u001b[0m\n",
            "\u001b[?25hDownloading jedi-0.19.2-py2.py3-none-any.whl (1.6 MB)\n",
            "\u001b[2K   \u001b[90m━━━━━━━━━━━━━━━━━━━━━━━━━━━━━━━━━━━━━━━━\u001b[0m \u001b[32m1.6/1.6 MB\u001b[0m \u001b[31m29.4 MB/s\u001b[0m eta \u001b[36m0:00:00\u001b[0m\n",
            "\u001b[?25hDownloading ply-3.11-py2.py3-none-any.whl (49 kB)\n",
            "\u001b[2K   \u001b[90m━━━━━━━━━━━━━━━━━━━━━━━━━━━━━━━━━━━━━━━━\u001b[0m \u001b[32m49.6/49.6 kB\u001b[0m \u001b[31m2.7 MB/s\u001b[0m eta \u001b[36m0:00:00\u001b[0m\n",
            "\u001b[?25hInstalling collected packages: ply, lesscpy, jedi, jupyterthemes\n",
            "Successfully installed jedi-0.19.2 jupyterthemes-0.20.0 lesscpy-0.15.1 ply-3.11\n"
          ]
        }
      ],
      "source": [
        "# install jupyterthemes\n",
        "!pip install jupyterthemes"
      ]
    },
    {
      "cell_type": "code",
      "execution_count": 2,
      "id": "58a0c08e",
      "metadata": {
        "execution": {
          "iopub.execute_input": "2023-06-22T14:25:32.461052Z",
          "iopub.status.busy": "2023-06-22T14:25:32.460506Z",
          "iopub.status.idle": "2023-06-22T14:25:35.358883Z",
          "shell.execute_reply": "2023-06-22T14:25:35.357317Z"
        },
        "papermill": {
          "duration": 2.923975,
          "end_time": "2023-06-22T14:25:35.362263",
          "exception": false,
          "start_time": "2023-06-22T14:25:32.438288",
          "status": "completed"
        },
        "tags": [],
        "id": "58a0c08e"
      },
      "outputs": [],
      "source": [
        "!jt -t solarizedl"
      ]
    },
    {
      "cell_type": "code",
      "execution_count": 3,
      "id": "ffad7ae0",
      "metadata": {
        "_kg_hide-output": true,
        "execution": {
          "iopub.execute_input": "2023-06-22T14:25:35.405036Z",
          "iopub.status.busy": "2023-06-22T14:25:35.404440Z",
          "iopub.status.idle": "2023-06-22T14:25:42.426704Z",
          "shell.execute_reply": "2023-06-22T14:25:42.425491Z"
        },
        "papermill": {
          "duration": 7.047693,
          "end_time": "2023-06-22T14:25:42.430099",
          "exception": false,
          "start_time": "2023-06-22T14:25:35.382406",
          "status": "completed"
        },
        "tags": [],
        "id": "ffad7ae0"
      },
      "outputs": [],
      "source": [
        "import numpy as np\n",
        "import pandas as pd\n",
        "import matplotlib.pyplot as plt\n",
        "import seaborn as sns\n",
        "import plotly.express as px\n",
        "import cufflinks as cf\n",
        "\n",
        "from transformers import AutoTokenizer, AutoModelForSequenceClassification\n",
        "import torch"
      ]
    },
    {
      "cell_type": "code",
      "execution_count": 4,
      "id": "ea8afd96",
      "metadata": {
        "_kg_hide-output": true,
        "execution": {
          "iopub.execute_input": "2023-06-22T14:25:42.473413Z",
          "iopub.status.busy": "2023-06-22T14:25:42.472327Z",
          "iopub.status.idle": "2023-06-22T14:25:58.006636Z",
          "shell.execute_reply": "2023-06-22T14:25:58.005094Z"
        },
        "papermill": {
          "duration": 15.559975,
          "end_time": "2023-06-22T14:25:58.010225",
          "exception": false,
          "start_time": "2023-06-22T14:25:42.450250",
          "status": "completed"
        },
        "tags": [],
        "colab": {
          "base_uri": "https://localhost:8080/"
        },
        "id": "ea8afd96",
        "outputId": "3e998ec3-2280-44dc-99b2-20756cd01511"
      },
      "outputs": [
        {
          "output_type": "stream",
          "name": "stdout",
          "text": [
            "Collecting vaderSentiment\n",
            "  Downloading vaderSentiment-3.3.2-py2.py3-none-any.whl.metadata (572 bytes)\n",
            "Requirement already satisfied: requests in /usr/local/lib/python3.10/dist-packages (from vaderSentiment) (2.32.3)\n",
            "Requirement already satisfied: charset-normalizer<4,>=2 in /usr/local/lib/python3.10/dist-packages (from requests->vaderSentiment) (3.4.0)\n",
            "Requirement already satisfied: idna<4,>=2.5 in /usr/local/lib/python3.10/dist-packages (from requests->vaderSentiment) (3.10)\n",
            "Requirement already satisfied: urllib3<3,>=1.21.1 in /usr/local/lib/python3.10/dist-packages (from requests->vaderSentiment) (2.2.3)\n",
            "Requirement already satisfied: certifi>=2017.4.17 in /usr/local/lib/python3.10/dist-packages (from requests->vaderSentiment) (2024.8.30)\n",
            "Downloading vaderSentiment-3.3.2-py2.py3-none-any.whl (125 kB)\n",
            "\u001b[?25l   \u001b[90m━━━━━━━━━━━━━━━━━━━━━━━━━━━━━━━━━━━━━━━━\u001b[0m \u001b[32m0.0/126.0 kB\u001b[0m \u001b[31m?\u001b[0m eta \u001b[36m-:--:--\u001b[0m\r\u001b[2K   \u001b[90m━━━━━━━━━━━━━━━━━━━━━━━━━━━━━━━━━━━━━━━━\u001b[0m \u001b[32m126.0/126.0 kB\u001b[0m \u001b[31m10.7 MB/s\u001b[0m eta \u001b[36m0:00:00\u001b[0m\n",
            "\u001b[?25hInstalling collected packages: vaderSentiment\n",
            "Successfully installed vaderSentiment-3.3.2\n"
          ]
        }
      ],
      "source": [
        "!pip install vaderSentiment\n",
        "from vaderSentiment.vaderSentiment import SentimentIntensityAnalyzer # for polarity score"
      ]
    },
    {
      "cell_type": "markdown",
      "id": "a3ea2b93",
      "metadata": {
        "papermill": {
          "duration": 0.020667,
          "end_time": "2023-06-22T14:25:58.051907",
          "exception": false,
          "start_time": "2023-06-22T14:25:58.031240",
          "status": "completed"
        },
        "tags": [],
        "id": "a3ea2b93"
      },
      "source": [
        "<a id=\"h1.1\"></a>"
      ]
    },
    {
      "cell_type": "markdown",
      "id": "9fe772ea",
      "metadata": {
        "execution": {
          "iopub.execute_input": "2023-01-27T15:39:48.339034Z",
          "iopub.status.busy": "2023-01-27T15:39:48.338487Z",
          "iopub.status.idle": "2023-01-27T15:39:51.074730Z",
          "shell.execute_reply": "2023-01-27T15:39:51.073180Z",
          "shell.execute_reply.started": "2023-01-27T15:39:48.338992Z"
        },
        "papermill": {
          "duration": 0.020179,
          "end_time": "2023-06-22T14:25:58.092715",
          "exception": false,
          "start_time": "2023-06-22T14:25:58.072536",
          "status": "completed"
        },
        "tags": [],
        "id": "9fe772ea"
      },
      "source": [
        "## <p style=\"background-color:skyblue;font-family:newtimeroman;font-size:200%;text-align:center;border-style: solid;border-color: black;border-radius: 15px 15px;\">1.1 Setting up the basic code snippets for Sentiment models</p>"
      ]
    },
    {
      "cell_type": "code",
      "execution_count": 5,
      "id": "fcd3a4dc",
      "metadata": {
        "execution": {
          "iopub.execute_input": "2023-06-22T14:25:58.137436Z",
          "iopub.status.busy": "2023-06-22T14:25:58.136830Z",
          "iopub.status.idle": "2023-06-22T14:26:26.610118Z",
          "shell.execute_reply": "2023-06-22T14:26:26.607103Z"
        },
        "papermill": {
          "duration": 28.501153,
          "end_time": "2023-06-22T14:26:26.615436",
          "exception": false,
          "start_time": "2023-06-22T14:25:58.114283",
          "status": "completed"
        },
        "tags": [],
        "colab": {
          "base_uri": "https://localhost:8080/",
          "height": 336,
          "referenced_widgets": [
            "633187bc82af45bf9af098aabb8b7a47",
            "54cf83c11b684208b52c4dfb50222bba",
            "3fb6283e3c9e440a95813a48c29977ef",
            "65194aec77c04187a38e8370799fe21f",
            "2755d085efa3463cb0da34df86e779c6",
            "da1c4bd998a141b0a9d19540a84126f8",
            "284130be430e4c33b7a6518c6aa43de1",
            "8cec37fecbad4c87b067c111e7ab7e45",
            "b8df11423fb84352848ebfc86bdd5fb1",
            "ab6db74ec7cc4c95b075ecf226f9cf41",
            "cc9dcb83952b46a7bdfe015ef2776058",
            "c1c9f763f71a485bab3438a3342b652e",
            "ab70992c06f6497e9f78b34dbf6d6537",
            "9e16cc4b79774cb88615e26156a8efb6",
            "73152386ee3c44c4aae448dca0134bff",
            "9a41842fbc134bd49bb1df9407266431",
            "d8cc98bff0d142e089eee7c8173500a5",
            "ff7160206d8e415a94762077bc5f5551",
            "ee4f9304d15b4d90aecfafd983b64a1f",
            "741779fa4e9445ffb49a69b2d4699794",
            "5b32fad9440c4216a04af3bf91ed8eda",
            "10f06848aa7c4355907a6fcc707e5f9d",
            "841dae544ad3416cb8a989ca5553f278",
            "8630cfcb8ee948589890c2f05f1af6c0",
            "70f48f7f865a49e5b5398f58bc9cc374",
            "767e422e457d484dad73dfaf18a7f23f",
            "6826de44b62d4eafba1628e98ab4f44e",
            "20617510baa8421f94bc289972b324fd",
            "cddec5d93e374a4c8453cec0b0e1994a",
            "fe8e33b2c01144f18a1bdc692f53a66e",
            "66253954a62f405e9b2c0e91b8bc0522",
            "847ec2517d1c4828a408f93015aaf943",
            "e5426658179f40d7be1a1faeecf6299d",
            "2838eb54850e47c8a23e64278a06d054",
            "3cf39bfa4d1b47bd88f5c4c02b713a6f",
            "0de90eb2907a4175aff08f8884c95f92",
            "0fd449ff11ee47a3b31615bac94f95e4",
            "a5f2cc98649b49f5838d578f08b2cd64",
            "95f471f336e04e4abc88a150e8555ed1",
            "cf51f1403d8a4e298c34cb0e008410aa",
            "008da3ba4cc34593871824d17582bb88",
            "d0e6ff4cbefa48c9836acbed4fcae75c",
            "30b36aead71045c3b1d0defb0ddf7c03",
            "8edb41f8438d453b83629fbb8e36f72b",
            "ff553a6de9404b6ab3a834593fb42cfc",
            "6608e2dd7b5a45878e06d7d241c36e90",
            "67eeea65f85143a79c2e21df56374bc3",
            "581a1e6299c14119a3cad8cd8fbe79bc",
            "6b2f344661a3417085510f433a301b07",
            "ff4e8cca58d34bf5b9610ded023889e8",
            "ee629253a91342a89ec3d87edaefe9f2",
            "adde0f981e144597980b6c73c30b02db",
            "5dd47f4052584d95a52d8db2af429d49",
            "d4b87ab26b224e78b46fc0a94b9424f3",
            "6cd7fb0cbb284b8b8a450c5d456cdfc1"
          ]
        },
        "id": "fcd3a4dc",
        "outputId": "606fab0e-ad5f-43ed-d967-6138a8525716"
      },
      "outputs": [
        {
          "output_type": "stream",
          "name": "stderr",
          "text": [
            "/usr/local/lib/python3.10/dist-packages/huggingface_hub/utils/_auth.py:94: UserWarning:\n",
            "\n",
            "\n",
            "The secret `HF_TOKEN` does not exist in your Colab secrets.\n",
            "To authenticate with the Hugging Face Hub, create a token in your settings tab (https://huggingface.co/settings/tokens), set it as secret in your Google Colab and restart your session.\n",
            "You will be able to reuse this secret in all of your notebooks.\n",
            "Please note that authentication is recommended but still optional to access public models or datasets.\n",
            "\n"
          ]
        },
        {
          "output_type": "display_data",
          "data": {
            "text/plain": [
              "tokenizer_config.json:   0%|          | 0.00/39.0 [00:00<?, ?B/s]"
            ],
            "application/vnd.jupyter.widget-view+json": {
              "version_major": 2,
              "version_minor": 0,
              "model_id": "633187bc82af45bf9af098aabb8b7a47"
            }
          },
          "metadata": {}
        },
        {
          "output_type": "display_data",
          "data": {
            "text/plain": [
              "config.json:   0%|          | 0.00/953 [00:00<?, ?B/s]"
            ],
            "application/vnd.jupyter.widget-view+json": {
              "version_major": 2,
              "version_minor": 0,
              "model_id": "c1c9f763f71a485bab3438a3342b652e"
            }
          },
          "metadata": {}
        },
        {
          "output_type": "display_data",
          "data": {
            "text/plain": [
              "vocab.txt:   0%|          | 0.00/872k [00:00<?, ?B/s]"
            ],
            "application/vnd.jupyter.widget-view+json": {
              "version_major": 2,
              "version_minor": 0,
              "model_id": "841dae544ad3416cb8a989ca5553f278"
            }
          },
          "metadata": {}
        },
        {
          "output_type": "display_data",
          "data": {
            "text/plain": [
              "special_tokens_map.json:   0%|          | 0.00/112 [00:00<?, ?B/s]"
            ],
            "application/vnd.jupyter.widget-view+json": {
              "version_major": 2,
              "version_minor": 0,
              "model_id": "2838eb54850e47c8a23e64278a06d054"
            }
          },
          "metadata": {}
        },
        {
          "output_type": "display_data",
          "data": {
            "text/plain": [
              "pytorch_model.bin:   0%|          | 0.00/669M [00:00<?, ?B/s]"
            ],
            "application/vnd.jupyter.widget-view+json": {
              "version_major": 2,
              "version_minor": 0,
              "model_id": "ff553a6de9404b6ab3a834593fb42cfc"
            }
          },
          "metadata": {}
        }
      ],
      "source": [
        "#for Bert sentiment model\n",
        "\n",
        "tokenizer = AutoTokenizer.from_pretrained('nlptown/bert-base-multilingual-uncased-sentiment')\n",
        "\n",
        "model = AutoModelForSequenceClassification.from_pretrained('nlptown/bert-base-multilingual-uncased-sentiment')\n",
        "\n",
        "def sentiment_score(review):\n",
        "    tokens = tokenizer.encode(review, return_tensors='pt')\n",
        "    result = model(tokens)\n",
        "    return int(torch.argmax(result.logits))+1"
      ]
    },
    {
      "cell_type": "code",
      "execution_count": 6,
      "id": "77413846",
      "metadata": {
        "execution": {
          "iopub.execute_input": "2023-06-22T14:26:26.676982Z",
          "iopub.status.busy": "2023-06-22T14:26:26.676364Z",
          "iopub.status.idle": "2023-06-22T14:26:26.714187Z",
          "shell.execute_reply": "2023-06-22T14:26:26.712177Z"
        },
        "papermill": {
          "duration": 0.071672,
          "end_time": "2023-06-22T14:26:26.717432",
          "exception": false,
          "start_time": "2023-06-22T14:26:26.645760",
          "status": "completed"
        },
        "tags": [],
        "id": "77413846"
      },
      "outputs": [],
      "source": [
        "# for Vader sentiment Analyzer\n",
        "\n",
        "analyser = SentimentIntensityAnalyzer()\n",
        "\n",
        "def pos(tweet):\n",
        "    SentDict = analyser.polarity_scores(tweet)\n",
        "    return SentDict['pos']\n",
        "\n",
        "def neg(tweet):\n",
        "    SentDict = analyser.polarity_scores(tweet)\n",
        "    return SentDict['neg']\n",
        "\n",
        "def neu(tweet):\n",
        "    SentDict = analyser.polarity_scores(tweet)\n",
        "    return SentDict['neu']"
      ]
    },
    {
      "cell_type": "markdown",
      "id": "21653ddc",
      "metadata": {
        "papermill": {
          "duration": 0.0238,
          "end_time": "2023-06-22T14:26:26.767403",
          "exception": false,
          "start_time": "2023-06-22T14:26:26.743603",
          "status": "completed"
        },
        "tags": [],
        "id": "21653ddc"
      },
      "source": [
        "<a id=\"h2\"></a>"
      ]
    },
    {
      "cell_type": "markdown",
      "id": "a9197307",
      "metadata": {
        "papermill": {
          "duration": 0.02238,
          "end_time": "2023-06-22T14:26:26.813037",
          "exception": false,
          "start_time": "2023-06-22T14:26:26.790657",
          "status": "completed"
        },
        "tags": [],
        "id": "a9197307"
      },
      "source": [
        "# <p style=\"background-color:skyblue;font-family:newtimeroman;font-size:180%;text-align:center;border-style: solid;border-color: black;border-radius: 15px 15px;\">2. Data Loading & Cleaning</p>"
      ]
    },
    {
      "cell_type": "markdown",
      "id": "b6654a44",
      "metadata": {
        "papermill": {
          "duration": 0.022408,
          "end_time": "2023-06-22T14:26:26.859115",
          "exception": false,
          "start_time": "2023-06-22T14:26:26.836707",
          "status": "completed"
        },
        "tags": [],
        "id": "b6654a44"
      },
      "source": [
        "## <span style=\"font-family:Comic Sans MS; color:blue\">Tweets from Narendra Modi's twitter account</span>"
      ]
    },
    {
      "cell_type": "code",
      "execution_count": 7,
      "id": "ae191f2f",
      "metadata": {
        "execution": {
          "iopub.execute_input": "2023-06-22T14:26:26.910034Z",
          "iopub.status.busy": "2023-06-22T14:26:26.908351Z",
          "iopub.status.idle": "2023-06-22T14:26:27.010658Z",
          "shell.execute_reply": "2023-06-22T14:26:27.008403Z"
        },
        "papermill": {
          "duration": 0.132017,
          "end_time": "2023-06-22T14:26:27.014393",
          "exception": false,
          "start_time": "2023-06-22T14:26:26.882376",
          "status": "completed"
        },
        "tags": [],
        "colab": {
          "base_uri": "https://localhost:8080/",
          "height": 324
        },
        "id": "ae191f2f",
        "outputId": "3f1b091a-14ba-4891-bea4-c2df816c15bb"
      },
      "outputs": [
        {
          "output_type": "error",
          "ename": "FileNotFoundError",
          "evalue": "[Errno 2] No such file or directory: '/kaggle/input/twitter-data-about-2019-indian-general-election/tweetsModi.csv'",
          "traceback": [
            "\u001b[0;31m---------------------------------------------------------------------------\u001b[0m",
            "\u001b[0;31mFileNotFoundError\u001b[0m                         Traceback (most recent call last)",
            "\u001b[0;32m<ipython-input-7-43f82f5349af>\u001b[0m in \u001b[0;36m<cell line: 1>\u001b[0;34m()\u001b[0m\n\u001b[0;32m----> 1\u001b[0;31m \u001b[0mdf_Modi\u001b[0m \u001b[0;34m=\u001b[0m \u001b[0mpd\u001b[0m\u001b[0;34m.\u001b[0m\u001b[0mread_csv\u001b[0m\u001b[0;34m(\u001b[0m\u001b[0;34m'/kaggle/input/twitter-data-about-2019-indian-general-election/tweetsModi.csv'\u001b[0m\u001b[0;34m,\u001b[0m\u001b[0mindex_col\u001b[0m\u001b[0;34m=\u001b[0m\u001b[0;36m0\u001b[0m\u001b[0;34m)\u001b[0m\u001b[0;34m\u001b[0m\u001b[0;34m\u001b[0m\u001b[0m\n\u001b[0m\u001b[1;32m      2\u001b[0m \u001b[0mdf_Modi\u001b[0m\u001b[0;34m\u001b[0m\u001b[0;34m\u001b[0m\u001b[0m\n",
            "\u001b[0;32m/usr/local/lib/python3.10/dist-packages/pandas/io/parsers/readers.py\u001b[0m in \u001b[0;36mread_csv\u001b[0;34m(filepath_or_buffer, sep, delimiter, header, names, index_col, usecols, dtype, engine, converters, true_values, false_values, skipinitialspace, skiprows, skipfooter, nrows, na_values, keep_default_na, na_filter, verbose, skip_blank_lines, parse_dates, infer_datetime_format, keep_date_col, date_parser, date_format, dayfirst, cache_dates, iterator, chunksize, compression, thousands, decimal, lineterminator, quotechar, quoting, doublequote, escapechar, comment, encoding, encoding_errors, dialect, on_bad_lines, delim_whitespace, low_memory, memory_map, float_precision, storage_options, dtype_backend)\u001b[0m\n\u001b[1;32m   1024\u001b[0m     \u001b[0mkwds\u001b[0m\u001b[0;34m.\u001b[0m\u001b[0mupdate\u001b[0m\u001b[0;34m(\u001b[0m\u001b[0mkwds_defaults\u001b[0m\u001b[0;34m)\u001b[0m\u001b[0;34m\u001b[0m\u001b[0;34m\u001b[0m\u001b[0m\n\u001b[1;32m   1025\u001b[0m \u001b[0;34m\u001b[0m\u001b[0m\n\u001b[0;32m-> 1026\u001b[0;31m     \u001b[0;32mreturn\u001b[0m \u001b[0m_read\u001b[0m\u001b[0;34m(\u001b[0m\u001b[0mfilepath_or_buffer\u001b[0m\u001b[0;34m,\u001b[0m \u001b[0mkwds\u001b[0m\u001b[0;34m)\u001b[0m\u001b[0;34m\u001b[0m\u001b[0;34m\u001b[0m\u001b[0m\n\u001b[0m\u001b[1;32m   1027\u001b[0m \u001b[0;34m\u001b[0m\u001b[0m\n\u001b[1;32m   1028\u001b[0m \u001b[0;34m\u001b[0m\u001b[0m\n",
            "\u001b[0;32m/usr/local/lib/python3.10/dist-packages/pandas/io/parsers/readers.py\u001b[0m in \u001b[0;36m_read\u001b[0;34m(filepath_or_buffer, kwds)\u001b[0m\n\u001b[1;32m    618\u001b[0m \u001b[0;34m\u001b[0m\u001b[0m\n\u001b[1;32m    619\u001b[0m     \u001b[0;31m# Create the parser.\u001b[0m\u001b[0;34m\u001b[0m\u001b[0;34m\u001b[0m\u001b[0m\n\u001b[0;32m--> 620\u001b[0;31m     \u001b[0mparser\u001b[0m \u001b[0;34m=\u001b[0m \u001b[0mTextFileReader\u001b[0m\u001b[0;34m(\u001b[0m\u001b[0mfilepath_or_buffer\u001b[0m\u001b[0;34m,\u001b[0m \u001b[0;34m**\u001b[0m\u001b[0mkwds\u001b[0m\u001b[0;34m)\u001b[0m\u001b[0;34m\u001b[0m\u001b[0;34m\u001b[0m\u001b[0m\n\u001b[0m\u001b[1;32m    621\u001b[0m \u001b[0;34m\u001b[0m\u001b[0m\n\u001b[1;32m    622\u001b[0m     \u001b[0;32mif\u001b[0m \u001b[0mchunksize\u001b[0m \u001b[0;32mor\u001b[0m \u001b[0miterator\u001b[0m\u001b[0;34m:\u001b[0m\u001b[0;34m\u001b[0m\u001b[0;34m\u001b[0m\u001b[0m\n",
            "\u001b[0;32m/usr/local/lib/python3.10/dist-packages/pandas/io/parsers/readers.py\u001b[0m in \u001b[0;36m__init__\u001b[0;34m(self, f, engine, **kwds)\u001b[0m\n\u001b[1;32m   1618\u001b[0m \u001b[0;34m\u001b[0m\u001b[0m\n\u001b[1;32m   1619\u001b[0m         \u001b[0mself\u001b[0m\u001b[0;34m.\u001b[0m\u001b[0mhandles\u001b[0m\u001b[0;34m:\u001b[0m \u001b[0mIOHandles\u001b[0m \u001b[0;34m|\u001b[0m \u001b[0;32mNone\u001b[0m \u001b[0;34m=\u001b[0m \u001b[0;32mNone\u001b[0m\u001b[0;34m\u001b[0m\u001b[0;34m\u001b[0m\u001b[0m\n\u001b[0;32m-> 1620\u001b[0;31m         \u001b[0mself\u001b[0m\u001b[0;34m.\u001b[0m\u001b[0m_engine\u001b[0m \u001b[0;34m=\u001b[0m \u001b[0mself\u001b[0m\u001b[0;34m.\u001b[0m\u001b[0m_make_engine\u001b[0m\u001b[0;34m(\u001b[0m\u001b[0mf\u001b[0m\u001b[0;34m,\u001b[0m \u001b[0mself\u001b[0m\u001b[0;34m.\u001b[0m\u001b[0mengine\u001b[0m\u001b[0;34m)\u001b[0m\u001b[0;34m\u001b[0m\u001b[0;34m\u001b[0m\u001b[0m\n\u001b[0m\u001b[1;32m   1621\u001b[0m \u001b[0;34m\u001b[0m\u001b[0m\n\u001b[1;32m   1622\u001b[0m     \u001b[0;32mdef\u001b[0m \u001b[0mclose\u001b[0m\u001b[0;34m(\u001b[0m\u001b[0mself\u001b[0m\u001b[0;34m)\u001b[0m \u001b[0;34m->\u001b[0m \u001b[0;32mNone\u001b[0m\u001b[0;34m:\u001b[0m\u001b[0;34m\u001b[0m\u001b[0;34m\u001b[0m\u001b[0m\n",
            "\u001b[0;32m/usr/local/lib/python3.10/dist-packages/pandas/io/parsers/readers.py\u001b[0m in \u001b[0;36m_make_engine\u001b[0;34m(self, f, engine)\u001b[0m\n\u001b[1;32m   1878\u001b[0m                 \u001b[0;32mif\u001b[0m \u001b[0;34m\"b\"\u001b[0m \u001b[0;32mnot\u001b[0m \u001b[0;32min\u001b[0m \u001b[0mmode\u001b[0m\u001b[0;34m:\u001b[0m\u001b[0;34m\u001b[0m\u001b[0;34m\u001b[0m\u001b[0m\n\u001b[1;32m   1879\u001b[0m                     \u001b[0mmode\u001b[0m \u001b[0;34m+=\u001b[0m \u001b[0;34m\"b\"\u001b[0m\u001b[0;34m\u001b[0m\u001b[0;34m\u001b[0m\u001b[0m\n\u001b[0;32m-> 1880\u001b[0;31m             self.handles = get_handle(\n\u001b[0m\u001b[1;32m   1881\u001b[0m                 \u001b[0mf\u001b[0m\u001b[0;34m,\u001b[0m\u001b[0;34m\u001b[0m\u001b[0;34m\u001b[0m\u001b[0m\n\u001b[1;32m   1882\u001b[0m                 \u001b[0mmode\u001b[0m\u001b[0;34m,\u001b[0m\u001b[0;34m\u001b[0m\u001b[0;34m\u001b[0m\u001b[0m\n",
            "\u001b[0;32m/usr/local/lib/python3.10/dist-packages/pandas/io/common.py\u001b[0m in \u001b[0;36mget_handle\u001b[0;34m(path_or_buf, mode, encoding, compression, memory_map, is_text, errors, storage_options)\u001b[0m\n\u001b[1;32m    871\u001b[0m         \u001b[0;32mif\u001b[0m \u001b[0mioargs\u001b[0m\u001b[0;34m.\u001b[0m\u001b[0mencoding\u001b[0m \u001b[0;32mand\u001b[0m \u001b[0;34m\"b\"\u001b[0m \u001b[0;32mnot\u001b[0m \u001b[0;32min\u001b[0m \u001b[0mioargs\u001b[0m\u001b[0;34m.\u001b[0m\u001b[0mmode\u001b[0m\u001b[0;34m:\u001b[0m\u001b[0;34m\u001b[0m\u001b[0;34m\u001b[0m\u001b[0m\n\u001b[1;32m    872\u001b[0m             \u001b[0;31m# Encoding\u001b[0m\u001b[0;34m\u001b[0m\u001b[0;34m\u001b[0m\u001b[0m\n\u001b[0;32m--> 873\u001b[0;31m             handle = open(\n\u001b[0m\u001b[1;32m    874\u001b[0m                 \u001b[0mhandle\u001b[0m\u001b[0;34m,\u001b[0m\u001b[0;34m\u001b[0m\u001b[0;34m\u001b[0m\u001b[0m\n\u001b[1;32m    875\u001b[0m                 \u001b[0mioargs\u001b[0m\u001b[0;34m.\u001b[0m\u001b[0mmode\u001b[0m\u001b[0;34m,\u001b[0m\u001b[0;34m\u001b[0m\u001b[0;34m\u001b[0m\u001b[0m\n",
            "\u001b[0;31mFileNotFoundError\u001b[0m: [Errno 2] No such file or directory: '/kaggle/input/twitter-data-about-2019-indian-general-election/tweetsModi.csv'"
          ]
        }
      ],
      "source": [
        "df_Modi = pd.read_csv('/kaggle/input/twitter-data-about-2019-indian-general-election/tweetsModi.csv',index_col=0)\n",
        "df_Modi"
      ]
    },
    {
      "cell_type": "markdown",
      "id": "6ae23f51",
      "metadata": {
        "papermill": {
          "duration": 0.023989,
          "end_time": "2023-06-22T14:26:27.064658",
          "exception": false,
          "start_time": "2023-06-22T14:26:27.040669",
          "status": "completed"
        },
        "tags": [],
        "id": "6ae23f51"
      },
      "source": [
        "## <span style=\"font-family:Comic Sans MS; color:blue\">Tweets from Rahul Gandhi's twitter account</span>"
      ]
    },
    {
      "cell_type": "code",
      "execution_count": null,
      "id": "f4b7bae9",
      "metadata": {
        "execution": {
          "iopub.execute_input": "2023-06-22T14:26:27.112825Z",
          "iopub.status.busy": "2023-06-22T14:26:27.111848Z",
          "iopub.status.idle": "2023-06-22T14:26:27.139674Z",
          "shell.execute_reply": "2023-06-22T14:26:27.138118Z"
        },
        "papermill": {
          "duration": 0.055957,
          "end_time": "2023-06-22T14:26:27.143991",
          "exception": false,
          "start_time": "2023-06-22T14:26:27.088034",
          "status": "completed"
        },
        "tags": [],
        "id": "f4b7bae9"
      },
      "outputs": [],
      "source": [
        "df_Rahul = pd.read_csv('/kaggle/input/twitter-data-about-2019-indian-general-election/tweetsRG.csv',index_col=0)\n",
        "df_Rahul"
      ]
    },
    {
      "cell_type": "markdown",
      "id": "1112bb4d",
      "metadata": {
        "papermill": {
          "duration": 0.022085,
          "end_time": "2023-06-22T14:26:27.188564",
          "exception": false,
          "start_time": "2023-06-22T14:26:27.166479",
          "status": "completed"
        },
        "tags": [],
        "id": "1112bb4d"
      },
      "source": [
        "<a id=\"h2.1\"></a>"
      ]
    },
    {
      "cell_type": "markdown",
      "id": "65d0fd1c",
      "metadata": {
        "papermill": {
          "duration": 0.02322,
          "end_time": "2023-06-22T14:26:27.234506",
          "exception": false,
          "start_time": "2023-06-22T14:26:27.211286",
          "status": "completed"
        },
        "tags": [],
        "id": "65d0fd1c"
      },
      "source": [
        "## <p style=\"background-color:lightblue;font-family:newtimeroman;font-size:200%;text-align:center;border-style: solid;border-color: black;border-radius: 15px 15px;\">2.1 Remove stopwords from tweets</p>"
      ]
    },
    {
      "cell_type": "code",
      "execution_count": null,
      "id": "1f4e2e03",
      "metadata": {
        "execution": {
          "iopub.execute_input": "2023-06-22T14:26:27.287498Z",
          "iopub.status.busy": "2023-06-22T14:26:27.286678Z",
          "iopub.status.idle": "2023-06-22T14:26:27.488554Z",
          "shell.execute_reply": "2023-06-22T14:26:27.486509Z"
        },
        "papermill": {
          "duration": 0.233976,
          "end_time": "2023-06-22T14:26:27.492316",
          "exception": false,
          "start_time": "2023-06-22T14:26:27.258340",
          "status": "completed"
        },
        "tags": [],
        "id": "1f4e2e03"
      },
      "outputs": [],
      "source": [
        "from sklearn.feature_extraction import text\n",
        "stop = text.ENGLISH_STOP_WORDS\n",
        "\n",
        "# for Modi's tweets\n",
        "df_Modi['Tweet'] = df_Modi['Tweet'].apply(lambda x: ' '.join([word for word in x.split() if word not in (stop)]))\n",
        "\n",
        "# for Rahul's tweets\n",
        "df_Rahul['Tweet'] = df_Rahul['Tweet'].apply(lambda x: ' '.join([word for word in x.split() if word not in (stop)]))"
      ]
    },
    {
      "cell_type": "markdown",
      "id": "d8734ccf",
      "metadata": {
        "papermill": {
          "duration": 0.02305,
          "end_time": "2023-06-22T14:26:27.537684",
          "exception": false,
          "start_time": "2023-06-22T14:26:27.514634",
          "status": "completed"
        },
        "tags": [],
        "id": "d8734ccf"
      },
      "source": [
        "<a id=\"h3\"></a>"
      ]
    },
    {
      "cell_type": "markdown",
      "id": "d9b6a00e",
      "metadata": {
        "papermill": {
          "duration": 0.022691,
          "end_time": "2023-06-22T14:26:27.583075",
          "exception": false,
          "start_time": "2023-06-22T14:26:27.560384",
          "status": "completed"
        },
        "tags": [],
        "id": "d9b6a00e"
      },
      "source": [
        "# <p style=\"background-color:skyblue;font-family:newtimeroman;font-size:200%;text-align:center;border-style: solid;border-color: black;border-radius: 15px 15px;\">3. Sentiment For Modi's Tweets</p>"
      ]
    },
    {
      "cell_type": "markdown",
      "id": "cd63fb22",
      "metadata": {
        "papermill": {
          "duration": 0.022681,
          "end_time": "2023-06-22T14:26:27.630435",
          "exception": false,
          "start_time": "2023-06-22T14:26:27.607754",
          "status": "completed"
        },
        "tags": [],
        "id": "cd63fb22"
      },
      "source": [
        "<a id=\"h3.1\"></a>"
      ]
    },
    {
      "cell_type": "markdown",
      "id": "275d1d0c",
      "metadata": {
        "papermill": {
          "duration": 0.022751,
          "end_time": "2023-06-22T14:26:27.677679",
          "exception": false,
          "start_time": "2023-06-22T14:26:27.654928",
          "status": "completed"
        },
        "tags": [],
        "id": "275d1d0c"
      },
      "source": [
        "## <p style=\"background-color:lightblue;font-family:newtimeroman;font-size:200%;text-align:center;border-style: solid;border-color: black;border-radius: 15px 15px;\">3.1 Using Bert</p>"
      ]
    },
    {
      "cell_type": "code",
      "execution_count": null,
      "id": "442dc697",
      "metadata": {
        "execution": {
          "iopub.execute_input": "2023-06-22T14:26:27.726276Z",
          "iopub.status.busy": "2023-06-22T14:26:27.725720Z",
          "iopub.status.idle": "2023-06-22T14:26:37.166971Z",
          "shell.execute_reply": "2023-06-22T14:26:37.165033Z"
        },
        "papermill": {
          "duration": 9.470026,
          "end_time": "2023-06-22T14:26:37.170458",
          "exception": false,
          "start_time": "2023-06-22T14:26:27.700432",
          "status": "completed"
        },
        "tags": [],
        "id": "442dc697"
      },
      "outputs": [],
      "source": [
        "df_Modi['FinalEmotion'] = df_Modi['Tweet'].apply(lambda x: sentiment_score(x))\n",
        "df_Modi['FinalEmotion']=df_Modi['FinalEmotion'].apply(lambda x : 'Pos' if x==5 else ('Neg' if x==1 else 'Neu'))\n",
        "df_Modi"
      ]
    },
    {
      "cell_type": "code",
      "execution_count": null,
      "id": "10473b7a",
      "metadata": {
        "execution": {
          "iopub.execute_input": "2023-06-22T14:26:37.220057Z",
          "iopub.status.busy": "2023-06-22T14:26:37.219270Z",
          "iopub.status.idle": "2023-06-22T14:26:37.540159Z",
          "shell.execute_reply": "2023-06-22T14:26:37.538453Z"
        },
        "papermill": {
          "duration": 0.349424,
          "end_time": "2023-06-22T14:26:37.543802",
          "exception": false,
          "start_time": "2023-06-22T14:26:37.194378",
          "status": "completed"
        },
        "tags": [],
        "id": "10473b7a"
      },
      "outputs": [],
      "source": [
        "# Plot counting total number of positive, negative and neutral emotions\n",
        "sns.set_style(\"darkgrid\")\n",
        "plt.figure(figsize=(15,10))\n",
        "ax = sns.countplot(x=df_Modi['FinalEmotion'],palette=['#808080','#00FF00',\"#FF0000\"])\n",
        "ax.set_title('Narendra Modi\\'s Personal Tweets')\n",
        "plt.show()"
      ]
    },
    {
      "cell_type": "markdown",
      "id": "c7f13f5c",
      "metadata": {
        "papermill": {
          "duration": 0.022646,
          "end_time": "2023-06-22T14:26:37.591429",
          "exception": false,
          "start_time": "2023-06-22T14:26:37.568783",
          "status": "completed"
        },
        "tags": [],
        "id": "c7f13f5c"
      },
      "source": [
        "<a id=\"h3.2\"></a>"
      ]
    },
    {
      "cell_type": "markdown",
      "id": "5de241a9",
      "metadata": {
        "papermill": {
          "duration": 0.02423,
          "end_time": "2023-06-22T14:26:37.640761",
          "exception": false,
          "start_time": "2023-06-22T14:26:37.616531",
          "status": "completed"
        },
        "tags": [],
        "id": "5de241a9"
      },
      "source": [
        "## <p style=\"background-color:lightblue;font-family:newtimeroman;font-size:200%;text-align:center;border-style: solid;border-color: black;border-radius: 15px 15px;\">3.2 Using Vader Sentiment</p>"
      ]
    },
    {
      "cell_type": "code",
      "execution_count": null,
      "id": "39993fc5",
      "metadata": {
        "execution": {
          "iopub.execute_input": "2023-06-22T14:26:37.691762Z",
          "iopub.status.busy": "2023-06-22T14:26:37.689981Z",
          "iopub.status.idle": "2023-06-22T14:26:37.833513Z",
          "shell.execute_reply": "2023-06-22T14:26:37.832474Z"
        },
        "papermill": {
          "duration": 0.171277,
          "end_time": "2023-06-22T14:26:37.836508",
          "exception": false,
          "start_time": "2023-06-22T14:26:37.665231",
          "status": "completed"
        },
        "tags": [],
        "id": "39993fc5"
      },
      "outputs": [],
      "source": [
        "df_Modi.drop('FinalEmotion',axis=1, inplace=True)\n",
        "\n",
        "#  By Using Vader sentiment Analyzer\n",
        "\n",
        "analyser = SentimentIntensityAnalyzer() # For polarity calculation\n",
        "\n",
        "# positive polarity score calculator\n",
        "def pos(tweet):\n",
        "    SentDict = analyser.polarity_scores(tweet)\n",
        "    return SentDict['pos']\n",
        "\n",
        "# negative polarity score calculator\n",
        "def neg(tweet):\n",
        "    SentDict = analyser.polarity_scores(tweet)\n",
        "    return SentDict['neg']\n",
        "\n",
        "# ne polarity score calculator\n",
        "def neu(tweet):\n",
        "    SentDict = analyser.polarity_scores(tweet)\n",
        "    return SentDict['neu']\n",
        "\n",
        "# Applying on tweets\n",
        "df_Modi['pos'] = df_Modi['Tweet'].apply(lambda x :pos(x))\n",
        "df_Modi['neg'] = df_Modi['Tweet'].apply(lambda x :neg(x))\n",
        "df_Modi['neu'] = df_Modi['Tweet'].apply(lambda x :neu(x))\n",
        "\n",
        "# Final Emotions\n",
        "ggez=[]\n",
        "for i in range(0,65):\n",
        "    ggez.append(max(df_Modi['pos'][i],df_Modi['neu'][i],df_Modi['neg'][i]))\n",
        "\n",
        "df_Modi['FinalEmotion']=ggez\n",
        "for i in range(0,65):\n",
        "    if df_Modi['FinalEmotion'][i]==df_Modi['pos'][i]:\n",
        "        df_Modi['FinalEmotion'][i]='positive'\n",
        "    elif df_Modi['FinalEmotion'][i]==df_Modi['neg'][i]:\n",
        "        df_Modi['FinalEmotion'][i]='negative'\n",
        "    elif df_Modi['FinalEmotion'][i]==df_Modi['neu'][i]:\n",
        "        df_Modi['FinalEmotion'][i]='neutral'\n",
        "df_Modi"
      ]
    },
    {
      "cell_type": "code",
      "execution_count": null,
      "id": "68697830",
      "metadata": {
        "execution": {
          "iopub.execute_input": "2023-06-22T14:26:37.890259Z",
          "iopub.status.busy": "2023-06-22T14:26:37.888532Z",
          "iopub.status.idle": "2023-06-22T14:26:38.149473Z",
          "shell.execute_reply": "2023-06-22T14:26:38.148330Z"
        },
        "papermill": {
          "duration": 0.292305,
          "end_time": "2023-06-22T14:26:38.152541",
          "exception": false,
          "start_time": "2023-06-22T14:26:37.860236",
          "status": "completed"
        },
        "tags": [],
        "id": "68697830"
      },
      "outputs": [],
      "source": [
        "# Count of neutral and positive emotions count\n",
        "plt.figure(figsize=(12,10))\n",
        "ax = sns.countplot(x=df_Modi['FinalEmotion'],palette=['#808080','#00FF00',\"#FF0000\"])\n",
        "ax.set_title('Narendra Modi\\'s Personal Tweets')\n",
        "plt.show()"
      ]
    },
    {
      "cell_type": "markdown",
      "id": "ecea7b34",
      "metadata": {
        "papermill": {
          "duration": 0.024222,
          "end_time": "2023-06-22T14:26:38.202882",
          "exception": false,
          "start_time": "2023-06-22T14:26:38.178660",
          "status": "completed"
        },
        "tags": [],
        "id": "ecea7b34"
      },
      "source": [
        "<a id=\"h3.3\"></a>"
      ]
    },
    {
      "cell_type": "markdown",
      "id": "9f0b7e56",
      "metadata": {
        "papermill": {
          "duration": 0.024573,
          "end_time": "2023-06-22T14:26:38.251864",
          "exception": false,
          "start_time": "2023-06-22T14:26:38.227291",
          "status": "completed"
        },
        "tags": [],
        "id": "9f0b7e56"
      },
      "source": [
        "## <p style=\"background-color:lightblue;font-family:newtimeroman;font-size:200%;text-align:center;border-style: solid;border-color: black;border-radius: 15px 15px;\">3.3 Using TextBlob</p>"
      ]
    },
    {
      "cell_type": "code",
      "execution_count": null,
      "id": "8c5acbb7",
      "metadata": {
        "_kg_hide-input": false,
        "execution": {
          "iopub.execute_input": "2023-06-22T14:26:38.304222Z",
          "iopub.status.busy": "2023-06-22T14:26:38.303418Z",
          "iopub.status.idle": "2023-06-22T14:26:40.032287Z",
          "shell.execute_reply": "2023-06-22T14:26:40.030523Z"
        },
        "papermill": {
          "duration": 1.758938,
          "end_time": "2023-06-22T14:26:40.035650",
          "exception": false,
          "start_time": "2023-06-22T14:26:38.276712",
          "status": "completed"
        },
        "tags": [],
        "id": "8c5acbb7"
      },
      "outputs": [],
      "source": [
        "# By Textblob\n",
        "\n",
        "from textblob import TextBlob\n",
        "\n",
        "bloblist_desc = list()\n",
        "\n",
        "twit=df_Modi['Tweet'].astype(str)\n",
        "for row in twit:\n",
        "    blob = TextBlob(row)\n",
        "    bloblist_desc.append((row,blob.sentiment.polarity, blob.sentiment.subjectivity))\n",
        "    twit_polarity_desc = pd.DataFrame(bloblist_desc, columns = ['sentence','sentiment','polarity'])\n",
        "\n",
        "def f(twit_polarity_desc):\n",
        "    if twit_polarity_desc['sentiment'] > 0:\n",
        "        val = \"Positive\"\n",
        "    elif twit_polarity_desc['sentiment'] == 0:\n",
        "        val = \"Neutral\"\n",
        "    else:\n",
        "        val = \"Negative\"\n",
        "    return val\n",
        "\n",
        "twit_polarity_desc['Sentiment_Type'] = twit_polarity_desc.apply(f, axis=1)\n",
        "\n",
        "plt.figure(figsize=(10,10))\n",
        "ax = sns.countplot(x=\"Sentiment_Type\", data=twit_polarity_desc)\n",
        "ax.set_title('Narendra Modi\\'s Personal Tweets')\n",
        "plt.show()"
      ]
    },
    {
      "cell_type": "markdown",
      "id": "68942a0c",
      "metadata": {
        "papermill": {
          "duration": 0.026044,
          "end_time": "2023-06-22T14:26:40.091274",
          "exception": false,
          "start_time": "2023-06-22T14:26:40.065230",
          "status": "completed"
        },
        "tags": [],
        "id": "68942a0c"
      },
      "source": [
        "<a id=\"h4\"></a>"
      ]
    },
    {
      "cell_type": "markdown",
      "id": "cfdfe060",
      "metadata": {
        "papermill": {
          "duration": 0.024611,
          "end_time": "2023-06-22T14:26:40.140375",
          "exception": false,
          "start_time": "2023-06-22T14:26:40.115764",
          "status": "completed"
        },
        "tags": [],
        "id": "cfdfe060"
      },
      "source": [
        "# <p style=\"background-color:skyblue;font-family:newtimeroman;font-size:200%;text-align:center;border-style: solid;border-color: black;border-radius: 15px 15px;\">4. Sentiment For Rahul Gandhi's Tweets</p>"
      ]
    },
    {
      "cell_type": "markdown",
      "id": "16bf8fc0",
      "metadata": {
        "papermill": {
          "duration": 0.025267,
          "end_time": "2023-06-22T14:26:40.191985",
          "exception": false,
          "start_time": "2023-06-22T14:26:40.166718",
          "status": "completed"
        },
        "tags": [],
        "id": "16bf8fc0"
      },
      "source": [
        "<a id=\"h4.1\"></a>"
      ]
    },
    {
      "cell_type": "markdown",
      "id": "50a040f9",
      "metadata": {
        "papermill": {
          "duration": 0.024512,
          "end_time": "2023-06-22T14:26:40.241736",
          "exception": false,
          "start_time": "2023-06-22T14:26:40.217224",
          "status": "completed"
        },
        "tags": [],
        "id": "50a040f9"
      },
      "source": [
        "## <p style=\"background-color:lightblue;font-family:newtimeroman;font-size:200%;text-align:center;border-style: solid;border-color: black;border-radius: 15px 15px;\">4.1 Using Bert</p>"
      ]
    },
    {
      "cell_type": "code",
      "execution_count": null,
      "id": "bc3b006d",
      "metadata": {
        "execution": {
          "iopub.execute_input": "2023-06-22T14:26:40.296761Z",
          "iopub.status.busy": "2023-06-22T14:26:40.295721Z",
          "iopub.status.idle": "2023-06-22T14:26:48.520316Z",
          "shell.execute_reply": "2023-06-22T14:26:48.518787Z"
        },
        "papermill": {
          "duration": 8.255837,
          "end_time": "2023-06-22T14:26:48.523611",
          "exception": false,
          "start_time": "2023-06-22T14:26:40.267774",
          "status": "completed"
        },
        "tags": [],
        "id": "bc3b006d"
      },
      "outputs": [],
      "source": [
        "df_Rahul['FinalEmotion'] = df_Rahul['Tweet'].apply(lambda x: sentiment_score(x))\n",
        "df_Rahul['FinalEmotion']=df_Rahul['FinalEmotion'].apply(lambda x : 'Pos' if x==5 else ('Neg' if x==1 else 'Neu'))\n",
        "df_Rahul"
      ]
    },
    {
      "cell_type": "code",
      "execution_count": null,
      "id": "1fd86baa",
      "metadata": {
        "_kg_hide-input": false,
        "execution": {
          "iopub.execute_input": "2023-06-22T14:26:48.578556Z",
          "iopub.status.busy": "2023-06-22T14:26:48.578006Z",
          "iopub.status.idle": "2023-06-22T14:26:48.825706Z",
          "shell.execute_reply": "2023-06-22T14:26:48.824363Z"
        },
        "papermill": {
          "duration": 0.279644,
          "end_time": "2023-06-22T14:26:48.829539",
          "exception": false,
          "start_time": "2023-06-22T14:26:48.549895",
          "status": "completed"
        },
        "tags": [],
        "id": "1fd86baa"
      },
      "outputs": [],
      "source": [
        "plt.figure(figsize=(15,10))\n",
        "ax = sns.countplot(x=df_Rahul['FinalEmotion'],palette=['#00FF00',\"#FF0000\",'#808080'])\n",
        "ax.set_title('Rahul Gandhi\\'s Personal Tweets')\n",
        "plt.show()"
      ]
    },
    {
      "cell_type": "markdown",
      "id": "a4f1f000",
      "metadata": {
        "papermill": {
          "duration": 0.025683,
          "end_time": "2023-06-22T14:26:48.881150",
          "exception": false,
          "start_time": "2023-06-22T14:26:48.855467",
          "status": "completed"
        },
        "tags": [],
        "id": "a4f1f000"
      },
      "source": [
        "<a id=\"h4.2\"></a>"
      ]
    },
    {
      "cell_type": "markdown",
      "id": "1a71686b",
      "metadata": {
        "papermill": {
          "duration": 0.026258,
          "end_time": "2023-06-22T14:26:48.933514",
          "exception": false,
          "start_time": "2023-06-22T14:26:48.907256",
          "status": "completed"
        },
        "tags": [],
        "id": "1a71686b"
      },
      "source": [
        "## <p style=\"background-color:lightblue;font-family:newtimeroman;font-size:200%;text-align:center;border-style: solid;border-color: black;border-radius: 15px 15px;\">4.2 Using Vader Sentiment</p>"
      ]
    },
    {
      "cell_type": "code",
      "execution_count": null,
      "id": "fe2af5f1",
      "metadata": {
        "execution": {
          "iopub.execute_input": "2023-06-22T14:26:48.990356Z",
          "iopub.status.busy": "2023-06-22T14:26:48.989336Z",
          "iopub.status.idle": "2023-06-22T14:26:49.091569Z",
          "shell.execute_reply": "2023-06-22T14:26:49.090223Z"
        },
        "papermill": {
          "duration": 0.133814,
          "end_time": "2023-06-22T14:26:49.094852",
          "exception": false,
          "start_time": "2023-06-22T14:26:48.961038",
          "status": "completed"
        },
        "tags": [],
        "id": "fe2af5f1"
      },
      "outputs": [],
      "source": [
        "df_Rahul['pos'] = df_Rahul['Tweet'].apply(lambda x :pos(x))\n",
        "df_Rahul['neg'] = df_Rahul['Tweet'].apply(lambda x :neg(x))\n",
        "df_Rahul['neu'] = df_Rahul['Tweet'].apply(lambda x :neu(x))\n",
        "\n",
        "ggez=[]\n",
        "for i in range(0,64):\n",
        "    ggez.append(max(df_Rahul['pos'][i],df_Rahul['neu'][i],df_Rahul['neg'][i]))\n",
        "\n",
        "df_Rahul['FinalEmotion']=ggez\n",
        "\n",
        "for i in range(0,64):\n",
        "    if df_Rahul['FinalEmotion'][i]==df_Rahul['pos'][i]:\n",
        "        df_Rahul['FinalEmotion'][i]='positive'\n",
        "    elif df_Rahul['FinalEmotion'][i]==df_Rahul['neg'][i]:\n",
        "        df_Rahul['FinalEmotion'][i]='negative'\n",
        "    elif df_Rahul['FinalEmotion'][i]==df_Rahul['neu'][i]:\n",
        "        df_Rahul['FinalEmotion'][i]='neutral'"
      ]
    },
    {
      "cell_type": "code",
      "execution_count": null,
      "id": "7cf79ea9",
      "metadata": {
        "execution": {
          "iopub.execute_input": "2023-06-22T14:26:49.150783Z",
          "iopub.status.busy": "2023-06-22T14:26:49.149603Z",
          "iopub.status.idle": "2023-06-22T14:26:49.162314Z",
          "shell.execute_reply": "2023-06-22T14:26:49.160240Z"
        },
        "papermill": {
          "duration": 0.045965,
          "end_time": "2023-06-22T14:26:49.166125",
          "exception": false,
          "start_time": "2023-06-22T14:26:49.120160",
          "status": "completed"
        },
        "tags": [],
        "id": "7cf79ea9"
      },
      "outputs": [],
      "source": [
        "df_Rahul['FinalEmotion'].value_counts()"
      ]
    },
    {
      "cell_type": "code",
      "execution_count": null,
      "id": "6d4ac4a5",
      "metadata": {
        "_kg_hide-input": false,
        "execution": {
          "iopub.execute_input": "2023-06-22T14:26:49.224353Z",
          "iopub.status.busy": "2023-06-22T14:26:49.223332Z",
          "iopub.status.idle": "2023-06-22T14:26:49.419883Z",
          "shell.execute_reply": "2023-06-22T14:26:49.418435Z"
        },
        "papermill": {
          "duration": 0.229336,
          "end_time": "2023-06-22T14:26:49.422810",
          "exception": false,
          "start_time": "2023-06-22T14:26:49.193474",
          "status": "completed"
        },
        "tags": [],
        "id": "6d4ac4a5"
      },
      "outputs": [],
      "source": [
        "plt.figure(figsize=(12,10))\n",
        "ax = sns.countplot(x=df_Rahul['FinalEmotion'],palette=['#808080','#00FF00',\"#FF0000\"])\n",
        "ax.set_title('Rahul Gandhi\\'s Personal Tweets')\n",
        "plt.show()"
      ]
    },
    {
      "cell_type": "markdown",
      "id": "f94815e0",
      "metadata": {
        "papermill": {
          "duration": 0.030033,
          "end_time": "2023-06-22T14:26:49.480245",
          "exception": false,
          "start_time": "2023-06-22T14:26:49.450212",
          "status": "completed"
        },
        "tags": [],
        "id": "f94815e0"
      },
      "source": [
        "<a id=\"h4.3\"></a>"
      ]
    },
    {
      "cell_type": "markdown",
      "id": "7874c180",
      "metadata": {
        "papermill": {
          "duration": 0.026677,
          "end_time": "2023-06-22T14:26:49.534202",
          "exception": false,
          "start_time": "2023-06-22T14:26:49.507525",
          "status": "completed"
        },
        "tags": [],
        "id": "7874c180"
      },
      "source": [
        "## <p style=\"background-color:lightblue;font-family:newtimeroman;font-size:200%;text-align:center;border-style: solid;border-color: black;border-radius: 15px 15px;\">4.3 Using TextBlob</p>"
      ]
    },
    {
      "cell_type": "code",
      "execution_count": null,
      "id": "e5b99e7a",
      "metadata": {
        "_kg_hide-input": false,
        "execution": {
          "iopub.execute_input": "2023-06-22T14:26:49.591404Z",
          "iopub.status.busy": "2023-06-22T14:26:49.590536Z",
          "iopub.status.idle": "2023-06-22T14:26:49.866965Z",
          "shell.execute_reply": "2023-06-22T14:26:49.865264Z"
        },
        "papermill": {
          "duration": 0.307986,
          "end_time": "2023-06-22T14:26:49.870094",
          "exception": false,
          "start_time": "2023-06-22T14:26:49.562108",
          "status": "completed"
        },
        "tags": [],
        "id": "e5b99e7a"
      },
      "outputs": [],
      "source": [
        "bloblist_desc = list()\n",
        "\n",
        "twit=df_Rahul['Tweet'].astype(str)\n",
        "for row in twit:\n",
        "    blob = TextBlob(row)\n",
        "    bloblist_desc.append((row,blob.sentiment.polarity, blob.sentiment.subjectivity))\n",
        "    twit_polarity_desc = pd.DataFrame(bloblist_desc, columns = ['sentence','sentiment','polarity'])\n",
        "\n",
        "def f(twit_polarity_desc):\n",
        "    if twit_polarity_desc['sentiment'] > 0:\n",
        "        val = \"Positive\"\n",
        "    elif twit_polarity_desc['sentiment'] == 0:\n",
        "        val = \"Neutral\"\n",
        "    else:\n",
        "        val = \"Negative\"\n",
        "    return val\n",
        "\n",
        "twit_polarity_desc['Sentiment_Type'] = twit_polarity_desc.apply(f, axis=1)\n",
        "\n",
        "plt.figure(figsize=(10,10))\n",
        "ax = sns.countplot(x=\"Sentiment_Type\", data=twit_polarity_desc)\n",
        "ax.set_title('Rahul Gandhi\\'s Personal Tweets')\n",
        "plt.show()"
      ]
    },
    {
      "cell_type": "markdown",
      "id": "8d5b1fc7",
      "metadata": {
        "papermill": {
          "duration": 0.025598,
          "end_time": "2023-06-22T14:26:49.922411",
          "exception": false,
          "start_time": "2023-06-22T14:26:49.896813",
          "status": "completed"
        },
        "tags": [],
        "id": "8d5b1fc7"
      },
      "source": [
        "<a id=\"h5\"></a>"
      ]
    },
    {
      "cell_type": "markdown",
      "id": "9cb013c7",
      "metadata": {
        "papermill": {
          "duration": 0.026682,
          "end_time": "2023-06-22T14:26:49.976889",
          "exception": false,
          "start_time": "2023-06-22T14:26:49.950207",
          "status": "completed"
        },
        "tags": [],
        "id": "9cb013c7"
      },
      "source": [
        "# <p style=\"background-color:skyblue;font-family:newtimeroman;font-size:150%;text-align:center;border-style: solid;border-color: black;border-radius: 15px 15px;\">5. Comparative Study of Tweets sentiments of tweets from <br>Narendra Modi & Rahul Gandhi</p>"
      ]
    },
    {
      "cell_type": "code",
      "execution_count": null,
      "id": "858cd724",
      "metadata": {
        "execution": {
          "iopub.execute_input": "2023-06-22T14:26:50.034318Z",
          "iopub.status.busy": "2023-06-22T14:26:50.033734Z",
          "iopub.status.idle": "2023-06-22T14:26:50.063843Z",
          "shell.execute_reply": "2023-06-22T14:26:50.062063Z"
        },
        "papermill": {
          "duration": 0.06319,
          "end_time": "2023-06-22T14:26:50.067391",
          "exception": false,
          "start_time": "2023-06-22T14:26:50.004201",
          "status": "completed"
        },
        "tags": [],
        "id": "858cd724"
      },
      "outputs": [],
      "source": [
        "# Combining Both The Dataframes\n",
        "\n",
        "dfNR=pd.concat([df_Modi,df_Rahul], axis=0)\n",
        "dfNR=dfNR.reset_index(drop=True)\n",
        "dfNR"
      ]
    },
    {
      "cell_type": "code",
      "execution_count": null,
      "id": "a1702691",
      "metadata": {
        "_kg_hide-input": false,
        "execution": {
          "iopub.execute_input": "2023-06-22T14:26:50.126047Z",
          "iopub.status.busy": "2023-06-22T14:26:50.125487Z",
          "iopub.status.idle": "2023-06-22T14:26:50.325992Z",
          "shell.execute_reply": "2023-06-22T14:26:50.324522Z"
        },
        "papermill": {
          "duration": 0.233412,
          "end_time": "2023-06-22T14:26:50.329603",
          "exception": false,
          "start_time": "2023-06-22T14:26:50.096191",
          "status": "completed"
        },
        "tags": [],
        "id": "a1702691"
      },
      "outputs": [],
      "source": [
        "plt.figure(figsize=(10,8))\n",
        "dfNR.groupby(['User']).count().Tweet.plot(kind='bar',title='Tweet Count - Narendra Modi vs Rahul Gandhi',edgecolor='black',color=['cornflowerblue','lightcoral'])\n",
        "plt.show()"
      ]
    },
    {
      "cell_type": "code",
      "execution_count": null,
      "id": "c4c4b3ea",
      "metadata": {
        "_kg_hide-input": false,
        "execution": {
          "iopub.execute_input": "2023-06-22T14:26:50.388482Z",
          "iopub.status.busy": "2023-06-22T14:26:50.386813Z",
          "iopub.status.idle": "2023-06-22T14:26:50.649669Z",
          "shell.execute_reply": "2023-06-22T14:26:50.647995Z"
        },
        "papermill": {
          "duration": 0.296091,
          "end_time": "2023-06-22T14:26:50.653892",
          "exception": false,
          "start_time": "2023-06-22T14:26:50.357801",
          "status": "completed"
        },
        "tags": [],
        "id": "c4c4b3ea"
      },
      "outputs": [],
      "source": [
        "plt.figure(figsize=(10,8))\n",
        "dfNR.groupby(['FinalEmotion']).count().Tweet.plot(kind='bar',title='Overall Emotion Combined',edgecolor='black',color=['cornflowerblue','lightcoral'])\n",
        "plt.show()"
      ]
    },
    {
      "cell_type": "code",
      "execution_count": null,
      "id": "7bb6718b",
      "metadata": {
        "execution": {
          "iopub.execute_input": "2023-06-22T14:26:50.712992Z",
          "iopub.status.busy": "2023-06-22T14:26:50.712455Z",
          "iopub.status.idle": "2023-06-22T14:26:51.503570Z",
          "shell.execute_reply": "2023-06-22T14:26:51.502394Z"
        },
        "papermill": {
          "duration": 0.825251,
          "end_time": "2023-06-22T14:26:51.507425",
          "exception": false,
          "start_time": "2023-06-22T14:26:50.682174",
          "status": "completed"
        },
        "tags": [],
        "id": "7bb6718b"
      },
      "outputs": [],
      "source": [
        "plt.figure(figsize=(12,6))\n",
        "\n",
        "dfNR[['neg','pos','neu']].sum().plot(kind='bar',title='Overall combined Emotion score sum of the tweets of both the candidate ',edgecolor='black',color=['orange','white','cornflowerblue'])\n",
        "plt.show()\n",
        "\n",
        "plt.figure(figsize=(11,5))\n",
        "plt.subplot(1,2,1)\n",
        "df_Modi[['neg','pos','neu']].sum().plot(kind='bar',title=\"Overall polarity scores for Narendra Modi's tweets\",edgecolor='black',color=['orange','white','cornflowerblue'])\n",
        "\n",
        "plt.subplot(1,2,2)\n",
        "df_Rahul[['neg','pos','neu']].sum().plot(kind='bar',title=\"Overall polarity scores for Rahul Gandhi's tweets\",edgecolor='black',color=['orange','white','cornflowerblue'])\n",
        "\n",
        "plt.tight_layout()\n",
        "plt.show()"
      ]
    },
    {
      "cell_type": "markdown",
      "id": "a72b2d9d",
      "metadata": {
        "papermill": {
          "duration": 0.028554,
          "end_time": "2023-06-22T14:26:51.576374",
          "exception": false,
          "start_time": "2023-06-22T14:26:51.547820",
          "status": "completed"
        },
        "tags": [],
        "id": "a72b2d9d"
      },
      "source": [
        "<a id=\"h6\"></a>"
      ]
    },
    {
      "cell_type": "markdown",
      "id": "59570c6a",
      "metadata": {
        "papermill": {
          "duration": 0.030418,
          "end_time": "2023-06-22T14:26:51.639179",
          "exception": false,
          "start_time": "2023-06-22T14:26:51.608761",
          "status": "completed"
        },
        "tags": [],
        "id": "59570c6a"
      },
      "source": [
        "# <p style=\"background-color:skyblue;font-family:newtimeroman;font-size:180%;text-align:center;border-style: solid;border-color: black;border-radius: 15px 15px;\">6. Results and Conclusion</p>"
      ]
    },
    {
      "cell_type": "markdown",
      "id": "b00ce9b2",
      "metadata": {
        "papermill": {
          "duration": 0.029925,
          "end_time": "2023-06-22T14:26:51.701307",
          "exception": false,
          "start_time": "2023-06-22T14:26:51.671382",
          "status": "completed"
        },
        "tags": [],
        "id": "b00ce9b2"
      },
      "source": [
        "So conclusion from above visualizations:\n",
        "\n",
        "1. Both candidate have RELATIVELY same no. of tweets so we can assume somewhat same engagement from both sides.\n",
        "2. Though if we see the negative polarity score is more for Rahul Gandhi's tweets than Narendra Modi's tweets, It may be beneficial for both the sides as Rahul Gandhi is the leader of opposition and Modi was present PM at that time, But POSITIVE APPROACH OF MODI'S TWEETS MAY BE SLIGHTLY MORE THAN GANDHI'S NEGATIVE TWEETS.\n",
        "\n",
        "[⩞ Top ⩞](#top)\n",
        "___\n",
        "\n",
        "<span style=\"font-family:Comic Sans MS; color:navy\"><strong>Waiting for your valuable feedback</strong></span>\n",
        "<blockquote><h2><span style=\"color:navy\">T</span><span style=\"color:blue\">h</span><span style=\"color:green\">a</span><span style=\"color:red\">n</span><span style=\"color:red\">k</span> <span style=\"color:green\">y</span><span style=\"color:blue\">o</span><span style=\"color:navy\">u</span> 🙂</h2></blockquote>"
      ]
    }
  ],
  "metadata": {
    "kernelspec": {
      "display_name": "Python 3",
      "name": "python3"
    },
    "language_info": {
      "codemirror_mode": {
        "name": "ipython",
        "version": 3
      },
      "file_extension": ".py",
      "mimetype": "text/x-python",
      "name": "python",
      "nbconvert_exporter": "python",
      "pygments_lexer": "ipython3",
      "version": "3.7.12"
    },
    "papermill": {
      "default_parameters": {},
      "duration": 116.172186,
      "end_time": "2023-06-22T14:26:54.323019",
      "environment_variables": {},
      "exception": null,
      "input_path": "__notebook__.ipynb",
      "output_path": "__notebook__.ipynb",
      "parameters": {},
      "start_time": "2023-06-22T14:24:58.150833",
      "version": "2.3.4"
    },
    "widgets": {
      "application/vnd.jupyter.widget-state+json": {
        "633187bc82af45bf9af098aabb8b7a47": {
          "model_module": "@jupyter-widgets/controls",
          "model_name": "HBoxModel",
          "model_module_version": "1.5.0",
          "state": {
            "_dom_classes": [],
            "_model_module": "@jupyter-widgets/controls",
            "_model_module_version": "1.5.0",
            "_model_name": "HBoxModel",
            "_view_count": null,
            "_view_module": "@jupyter-widgets/controls",
            "_view_module_version": "1.5.0",
            "_view_name": "HBoxView",
            "box_style": "",
            "children": [
              "IPY_MODEL_54cf83c11b684208b52c4dfb50222bba",
              "IPY_MODEL_3fb6283e3c9e440a95813a48c29977ef",
              "IPY_MODEL_65194aec77c04187a38e8370799fe21f"
            ],
            "layout": "IPY_MODEL_2755d085efa3463cb0da34df86e779c6"
          }
        },
        "54cf83c11b684208b52c4dfb50222bba": {
          "model_module": "@jupyter-widgets/controls",
          "model_name": "HTMLModel",
          "model_module_version": "1.5.0",
          "state": {
            "_dom_classes": [],
            "_model_module": "@jupyter-widgets/controls",
            "_model_module_version": "1.5.0",
            "_model_name": "HTMLModel",
            "_view_count": null,
            "_view_module": "@jupyter-widgets/controls",
            "_view_module_version": "1.5.0",
            "_view_name": "HTMLView",
            "description": "",
            "description_tooltip": null,
            "layout": "IPY_MODEL_da1c4bd998a141b0a9d19540a84126f8",
            "placeholder": "​",
            "style": "IPY_MODEL_284130be430e4c33b7a6518c6aa43de1",
            "value": "tokenizer_config.json: 100%"
          }
        },
        "3fb6283e3c9e440a95813a48c29977ef": {
          "model_module": "@jupyter-widgets/controls",
          "model_name": "FloatProgressModel",
          "model_module_version": "1.5.0",
          "state": {
            "_dom_classes": [],
            "_model_module": "@jupyter-widgets/controls",
            "_model_module_version": "1.5.0",
            "_model_name": "FloatProgressModel",
            "_view_count": null,
            "_view_module": "@jupyter-widgets/controls",
            "_view_module_version": "1.5.0",
            "_view_name": "ProgressView",
            "bar_style": "success",
            "description": "",
            "description_tooltip": null,
            "layout": "IPY_MODEL_8cec37fecbad4c87b067c111e7ab7e45",
            "max": 39,
            "min": 0,
            "orientation": "horizontal",
            "style": "IPY_MODEL_b8df11423fb84352848ebfc86bdd5fb1",
            "value": 39
          }
        },
        "65194aec77c04187a38e8370799fe21f": {
          "model_module": "@jupyter-widgets/controls",
          "model_name": "HTMLModel",
          "model_module_version": "1.5.0",
          "state": {
            "_dom_classes": [],
            "_model_module": "@jupyter-widgets/controls",
            "_model_module_version": "1.5.0",
            "_model_name": "HTMLModel",
            "_view_count": null,
            "_view_module": "@jupyter-widgets/controls",
            "_view_module_version": "1.5.0",
            "_view_name": "HTMLView",
            "description": "",
            "description_tooltip": null,
            "layout": "IPY_MODEL_ab6db74ec7cc4c95b075ecf226f9cf41",
            "placeholder": "​",
            "style": "IPY_MODEL_cc9dcb83952b46a7bdfe015ef2776058",
            "value": " 39.0/39.0 [00:00&lt;00:00, 2.73kB/s]"
          }
        },
        "2755d085efa3463cb0da34df86e779c6": {
          "model_module": "@jupyter-widgets/base",
          "model_name": "LayoutModel",
          "model_module_version": "1.2.0",
          "state": {
            "_model_module": "@jupyter-widgets/base",
            "_model_module_version": "1.2.0",
            "_model_name": "LayoutModel",
            "_view_count": null,
            "_view_module": "@jupyter-widgets/base",
            "_view_module_version": "1.2.0",
            "_view_name": "LayoutView",
            "align_content": null,
            "align_items": null,
            "align_self": null,
            "border": null,
            "bottom": null,
            "display": null,
            "flex": null,
            "flex_flow": null,
            "grid_area": null,
            "grid_auto_columns": null,
            "grid_auto_flow": null,
            "grid_auto_rows": null,
            "grid_column": null,
            "grid_gap": null,
            "grid_row": null,
            "grid_template_areas": null,
            "grid_template_columns": null,
            "grid_template_rows": null,
            "height": null,
            "justify_content": null,
            "justify_items": null,
            "left": null,
            "margin": null,
            "max_height": null,
            "max_width": null,
            "min_height": null,
            "min_width": null,
            "object_fit": null,
            "object_position": null,
            "order": null,
            "overflow": null,
            "overflow_x": null,
            "overflow_y": null,
            "padding": null,
            "right": null,
            "top": null,
            "visibility": null,
            "width": null
          }
        },
        "da1c4bd998a141b0a9d19540a84126f8": {
          "model_module": "@jupyter-widgets/base",
          "model_name": "LayoutModel",
          "model_module_version": "1.2.0",
          "state": {
            "_model_module": "@jupyter-widgets/base",
            "_model_module_version": "1.2.0",
            "_model_name": "LayoutModel",
            "_view_count": null,
            "_view_module": "@jupyter-widgets/base",
            "_view_module_version": "1.2.0",
            "_view_name": "LayoutView",
            "align_content": null,
            "align_items": null,
            "align_self": null,
            "border": null,
            "bottom": null,
            "display": null,
            "flex": null,
            "flex_flow": null,
            "grid_area": null,
            "grid_auto_columns": null,
            "grid_auto_flow": null,
            "grid_auto_rows": null,
            "grid_column": null,
            "grid_gap": null,
            "grid_row": null,
            "grid_template_areas": null,
            "grid_template_columns": null,
            "grid_template_rows": null,
            "height": null,
            "justify_content": null,
            "justify_items": null,
            "left": null,
            "margin": null,
            "max_height": null,
            "max_width": null,
            "min_height": null,
            "min_width": null,
            "object_fit": null,
            "object_position": null,
            "order": null,
            "overflow": null,
            "overflow_x": null,
            "overflow_y": null,
            "padding": null,
            "right": null,
            "top": null,
            "visibility": null,
            "width": null
          }
        },
        "284130be430e4c33b7a6518c6aa43de1": {
          "model_module": "@jupyter-widgets/controls",
          "model_name": "DescriptionStyleModel",
          "model_module_version": "1.5.0",
          "state": {
            "_model_module": "@jupyter-widgets/controls",
            "_model_module_version": "1.5.0",
            "_model_name": "DescriptionStyleModel",
            "_view_count": null,
            "_view_module": "@jupyter-widgets/base",
            "_view_module_version": "1.2.0",
            "_view_name": "StyleView",
            "description_width": ""
          }
        },
        "8cec37fecbad4c87b067c111e7ab7e45": {
          "model_module": "@jupyter-widgets/base",
          "model_name": "LayoutModel",
          "model_module_version": "1.2.0",
          "state": {
            "_model_module": "@jupyter-widgets/base",
            "_model_module_version": "1.2.0",
            "_model_name": "LayoutModel",
            "_view_count": null,
            "_view_module": "@jupyter-widgets/base",
            "_view_module_version": "1.2.0",
            "_view_name": "LayoutView",
            "align_content": null,
            "align_items": null,
            "align_self": null,
            "border": null,
            "bottom": null,
            "display": null,
            "flex": null,
            "flex_flow": null,
            "grid_area": null,
            "grid_auto_columns": null,
            "grid_auto_flow": null,
            "grid_auto_rows": null,
            "grid_column": null,
            "grid_gap": null,
            "grid_row": null,
            "grid_template_areas": null,
            "grid_template_columns": null,
            "grid_template_rows": null,
            "height": null,
            "justify_content": null,
            "justify_items": null,
            "left": null,
            "margin": null,
            "max_height": null,
            "max_width": null,
            "min_height": null,
            "min_width": null,
            "object_fit": null,
            "object_position": null,
            "order": null,
            "overflow": null,
            "overflow_x": null,
            "overflow_y": null,
            "padding": null,
            "right": null,
            "top": null,
            "visibility": null,
            "width": null
          }
        },
        "b8df11423fb84352848ebfc86bdd5fb1": {
          "model_module": "@jupyter-widgets/controls",
          "model_name": "ProgressStyleModel",
          "model_module_version": "1.5.0",
          "state": {
            "_model_module": "@jupyter-widgets/controls",
            "_model_module_version": "1.5.0",
            "_model_name": "ProgressStyleModel",
            "_view_count": null,
            "_view_module": "@jupyter-widgets/base",
            "_view_module_version": "1.2.0",
            "_view_name": "StyleView",
            "bar_color": null,
            "description_width": ""
          }
        },
        "ab6db74ec7cc4c95b075ecf226f9cf41": {
          "model_module": "@jupyter-widgets/base",
          "model_name": "LayoutModel",
          "model_module_version": "1.2.0",
          "state": {
            "_model_module": "@jupyter-widgets/base",
            "_model_module_version": "1.2.0",
            "_model_name": "LayoutModel",
            "_view_count": null,
            "_view_module": "@jupyter-widgets/base",
            "_view_module_version": "1.2.0",
            "_view_name": "LayoutView",
            "align_content": null,
            "align_items": null,
            "align_self": null,
            "border": null,
            "bottom": null,
            "display": null,
            "flex": null,
            "flex_flow": null,
            "grid_area": null,
            "grid_auto_columns": null,
            "grid_auto_flow": null,
            "grid_auto_rows": null,
            "grid_column": null,
            "grid_gap": null,
            "grid_row": null,
            "grid_template_areas": null,
            "grid_template_columns": null,
            "grid_template_rows": null,
            "height": null,
            "justify_content": null,
            "justify_items": null,
            "left": null,
            "margin": null,
            "max_height": null,
            "max_width": null,
            "min_height": null,
            "min_width": null,
            "object_fit": null,
            "object_position": null,
            "order": null,
            "overflow": null,
            "overflow_x": null,
            "overflow_y": null,
            "padding": null,
            "right": null,
            "top": null,
            "visibility": null,
            "width": null
          }
        },
        "cc9dcb83952b46a7bdfe015ef2776058": {
          "model_module": "@jupyter-widgets/controls",
          "model_name": "DescriptionStyleModel",
          "model_module_version": "1.5.0",
          "state": {
            "_model_module": "@jupyter-widgets/controls",
            "_model_module_version": "1.5.0",
            "_model_name": "DescriptionStyleModel",
            "_view_count": null,
            "_view_module": "@jupyter-widgets/base",
            "_view_module_version": "1.2.0",
            "_view_name": "StyleView",
            "description_width": ""
          }
        },
        "c1c9f763f71a485bab3438a3342b652e": {
          "model_module": "@jupyter-widgets/controls",
          "model_name": "HBoxModel",
          "model_module_version": "1.5.0",
          "state": {
            "_dom_classes": [],
            "_model_module": "@jupyter-widgets/controls",
            "_model_module_version": "1.5.0",
            "_model_name": "HBoxModel",
            "_view_count": null,
            "_view_module": "@jupyter-widgets/controls",
            "_view_module_version": "1.5.0",
            "_view_name": "HBoxView",
            "box_style": "",
            "children": [
              "IPY_MODEL_ab70992c06f6497e9f78b34dbf6d6537",
              "IPY_MODEL_9e16cc4b79774cb88615e26156a8efb6",
              "IPY_MODEL_73152386ee3c44c4aae448dca0134bff"
            ],
            "layout": "IPY_MODEL_9a41842fbc134bd49bb1df9407266431"
          }
        },
        "ab70992c06f6497e9f78b34dbf6d6537": {
          "model_module": "@jupyter-widgets/controls",
          "model_name": "HTMLModel",
          "model_module_version": "1.5.0",
          "state": {
            "_dom_classes": [],
            "_model_module": "@jupyter-widgets/controls",
            "_model_module_version": "1.5.0",
            "_model_name": "HTMLModel",
            "_view_count": null,
            "_view_module": "@jupyter-widgets/controls",
            "_view_module_version": "1.5.0",
            "_view_name": "HTMLView",
            "description": "",
            "description_tooltip": null,
            "layout": "IPY_MODEL_d8cc98bff0d142e089eee7c8173500a5",
            "placeholder": "​",
            "style": "IPY_MODEL_ff7160206d8e415a94762077bc5f5551",
            "value": "config.json: 100%"
          }
        },
        "9e16cc4b79774cb88615e26156a8efb6": {
          "model_module": "@jupyter-widgets/controls",
          "model_name": "FloatProgressModel",
          "model_module_version": "1.5.0",
          "state": {
            "_dom_classes": [],
            "_model_module": "@jupyter-widgets/controls",
            "_model_module_version": "1.5.0",
            "_model_name": "FloatProgressModel",
            "_view_count": null,
            "_view_module": "@jupyter-widgets/controls",
            "_view_module_version": "1.5.0",
            "_view_name": "ProgressView",
            "bar_style": "success",
            "description": "",
            "description_tooltip": null,
            "layout": "IPY_MODEL_ee4f9304d15b4d90aecfafd983b64a1f",
            "max": 953,
            "min": 0,
            "orientation": "horizontal",
            "style": "IPY_MODEL_741779fa4e9445ffb49a69b2d4699794",
            "value": 953
          }
        },
        "73152386ee3c44c4aae448dca0134bff": {
          "model_module": "@jupyter-widgets/controls",
          "model_name": "HTMLModel",
          "model_module_version": "1.5.0",
          "state": {
            "_dom_classes": [],
            "_model_module": "@jupyter-widgets/controls",
            "_model_module_version": "1.5.0",
            "_model_name": "HTMLModel",
            "_view_count": null,
            "_view_module": "@jupyter-widgets/controls",
            "_view_module_version": "1.5.0",
            "_view_name": "HTMLView",
            "description": "",
            "description_tooltip": null,
            "layout": "IPY_MODEL_5b32fad9440c4216a04af3bf91ed8eda",
            "placeholder": "​",
            "style": "IPY_MODEL_10f06848aa7c4355907a6fcc707e5f9d",
            "value": " 953/953 [00:00&lt;00:00, 56.6kB/s]"
          }
        },
        "9a41842fbc134bd49bb1df9407266431": {
          "model_module": "@jupyter-widgets/base",
          "model_name": "LayoutModel",
          "model_module_version": "1.2.0",
          "state": {
            "_model_module": "@jupyter-widgets/base",
            "_model_module_version": "1.2.0",
            "_model_name": "LayoutModel",
            "_view_count": null,
            "_view_module": "@jupyter-widgets/base",
            "_view_module_version": "1.2.0",
            "_view_name": "LayoutView",
            "align_content": null,
            "align_items": null,
            "align_self": null,
            "border": null,
            "bottom": null,
            "display": null,
            "flex": null,
            "flex_flow": null,
            "grid_area": null,
            "grid_auto_columns": null,
            "grid_auto_flow": null,
            "grid_auto_rows": null,
            "grid_column": null,
            "grid_gap": null,
            "grid_row": null,
            "grid_template_areas": null,
            "grid_template_columns": null,
            "grid_template_rows": null,
            "height": null,
            "justify_content": null,
            "justify_items": null,
            "left": null,
            "margin": null,
            "max_height": null,
            "max_width": null,
            "min_height": null,
            "min_width": null,
            "object_fit": null,
            "object_position": null,
            "order": null,
            "overflow": null,
            "overflow_x": null,
            "overflow_y": null,
            "padding": null,
            "right": null,
            "top": null,
            "visibility": null,
            "width": null
          }
        },
        "d8cc98bff0d142e089eee7c8173500a5": {
          "model_module": "@jupyter-widgets/base",
          "model_name": "LayoutModel",
          "model_module_version": "1.2.0",
          "state": {
            "_model_module": "@jupyter-widgets/base",
            "_model_module_version": "1.2.0",
            "_model_name": "LayoutModel",
            "_view_count": null,
            "_view_module": "@jupyter-widgets/base",
            "_view_module_version": "1.2.0",
            "_view_name": "LayoutView",
            "align_content": null,
            "align_items": null,
            "align_self": null,
            "border": null,
            "bottom": null,
            "display": null,
            "flex": null,
            "flex_flow": null,
            "grid_area": null,
            "grid_auto_columns": null,
            "grid_auto_flow": null,
            "grid_auto_rows": null,
            "grid_column": null,
            "grid_gap": null,
            "grid_row": null,
            "grid_template_areas": null,
            "grid_template_columns": null,
            "grid_template_rows": null,
            "height": null,
            "justify_content": null,
            "justify_items": null,
            "left": null,
            "margin": null,
            "max_height": null,
            "max_width": null,
            "min_height": null,
            "min_width": null,
            "object_fit": null,
            "object_position": null,
            "order": null,
            "overflow": null,
            "overflow_x": null,
            "overflow_y": null,
            "padding": null,
            "right": null,
            "top": null,
            "visibility": null,
            "width": null
          }
        },
        "ff7160206d8e415a94762077bc5f5551": {
          "model_module": "@jupyter-widgets/controls",
          "model_name": "DescriptionStyleModel",
          "model_module_version": "1.5.0",
          "state": {
            "_model_module": "@jupyter-widgets/controls",
            "_model_module_version": "1.5.0",
            "_model_name": "DescriptionStyleModel",
            "_view_count": null,
            "_view_module": "@jupyter-widgets/base",
            "_view_module_version": "1.2.0",
            "_view_name": "StyleView",
            "description_width": ""
          }
        },
        "ee4f9304d15b4d90aecfafd983b64a1f": {
          "model_module": "@jupyter-widgets/base",
          "model_name": "LayoutModel",
          "model_module_version": "1.2.0",
          "state": {
            "_model_module": "@jupyter-widgets/base",
            "_model_module_version": "1.2.0",
            "_model_name": "LayoutModel",
            "_view_count": null,
            "_view_module": "@jupyter-widgets/base",
            "_view_module_version": "1.2.0",
            "_view_name": "LayoutView",
            "align_content": null,
            "align_items": null,
            "align_self": null,
            "border": null,
            "bottom": null,
            "display": null,
            "flex": null,
            "flex_flow": null,
            "grid_area": null,
            "grid_auto_columns": null,
            "grid_auto_flow": null,
            "grid_auto_rows": null,
            "grid_column": null,
            "grid_gap": null,
            "grid_row": null,
            "grid_template_areas": null,
            "grid_template_columns": null,
            "grid_template_rows": null,
            "height": null,
            "justify_content": null,
            "justify_items": null,
            "left": null,
            "margin": null,
            "max_height": null,
            "max_width": null,
            "min_height": null,
            "min_width": null,
            "object_fit": null,
            "object_position": null,
            "order": null,
            "overflow": null,
            "overflow_x": null,
            "overflow_y": null,
            "padding": null,
            "right": null,
            "top": null,
            "visibility": null,
            "width": null
          }
        },
        "741779fa4e9445ffb49a69b2d4699794": {
          "model_module": "@jupyter-widgets/controls",
          "model_name": "ProgressStyleModel",
          "model_module_version": "1.5.0",
          "state": {
            "_model_module": "@jupyter-widgets/controls",
            "_model_module_version": "1.5.0",
            "_model_name": "ProgressStyleModel",
            "_view_count": null,
            "_view_module": "@jupyter-widgets/base",
            "_view_module_version": "1.2.0",
            "_view_name": "StyleView",
            "bar_color": null,
            "description_width": ""
          }
        },
        "5b32fad9440c4216a04af3bf91ed8eda": {
          "model_module": "@jupyter-widgets/base",
          "model_name": "LayoutModel",
          "model_module_version": "1.2.0",
          "state": {
            "_model_module": "@jupyter-widgets/base",
            "_model_module_version": "1.2.0",
            "_model_name": "LayoutModel",
            "_view_count": null,
            "_view_module": "@jupyter-widgets/base",
            "_view_module_version": "1.2.0",
            "_view_name": "LayoutView",
            "align_content": null,
            "align_items": null,
            "align_self": null,
            "border": null,
            "bottom": null,
            "display": null,
            "flex": null,
            "flex_flow": null,
            "grid_area": null,
            "grid_auto_columns": null,
            "grid_auto_flow": null,
            "grid_auto_rows": null,
            "grid_column": null,
            "grid_gap": null,
            "grid_row": null,
            "grid_template_areas": null,
            "grid_template_columns": null,
            "grid_template_rows": null,
            "height": null,
            "justify_content": null,
            "justify_items": null,
            "left": null,
            "margin": null,
            "max_height": null,
            "max_width": null,
            "min_height": null,
            "min_width": null,
            "object_fit": null,
            "object_position": null,
            "order": null,
            "overflow": null,
            "overflow_x": null,
            "overflow_y": null,
            "padding": null,
            "right": null,
            "top": null,
            "visibility": null,
            "width": null
          }
        },
        "10f06848aa7c4355907a6fcc707e5f9d": {
          "model_module": "@jupyter-widgets/controls",
          "model_name": "DescriptionStyleModel",
          "model_module_version": "1.5.0",
          "state": {
            "_model_module": "@jupyter-widgets/controls",
            "_model_module_version": "1.5.0",
            "_model_name": "DescriptionStyleModel",
            "_view_count": null,
            "_view_module": "@jupyter-widgets/base",
            "_view_module_version": "1.2.0",
            "_view_name": "StyleView",
            "description_width": ""
          }
        },
        "841dae544ad3416cb8a989ca5553f278": {
          "model_module": "@jupyter-widgets/controls",
          "model_name": "HBoxModel",
          "model_module_version": "1.5.0",
          "state": {
            "_dom_classes": [],
            "_model_module": "@jupyter-widgets/controls",
            "_model_module_version": "1.5.0",
            "_model_name": "HBoxModel",
            "_view_count": null,
            "_view_module": "@jupyter-widgets/controls",
            "_view_module_version": "1.5.0",
            "_view_name": "HBoxView",
            "box_style": "",
            "children": [
              "IPY_MODEL_8630cfcb8ee948589890c2f05f1af6c0",
              "IPY_MODEL_70f48f7f865a49e5b5398f58bc9cc374",
              "IPY_MODEL_767e422e457d484dad73dfaf18a7f23f"
            ],
            "layout": "IPY_MODEL_6826de44b62d4eafba1628e98ab4f44e"
          }
        },
        "8630cfcb8ee948589890c2f05f1af6c0": {
          "model_module": "@jupyter-widgets/controls",
          "model_name": "HTMLModel",
          "model_module_version": "1.5.0",
          "state": {
            "_dom_classes": [],
            "_model_module": "@jupyter-widgets/controls",
            "_model_module_version": "1.5.0",
            "_model_name": "HTMLModel",
            "_view_count": null,
            "_view_module": "@jupyter-widgets/controls",
            "_view_module_version": "1.5.0",
            "_view_name": "HTMLView",
            "description": "",
            "description_tooltip": null,
            "layout": "IPY_MODEL_20617510baa8421f94bc289972b324fd",
            "placeholder": "​",
            "style": "IPY_MODEL_cddec5d93e374a4c8453cec0b0e1994a",
            "value": "vocab.txt: 100%"
          }
        },
        "70f48f7f865a49e5b5398f58bc9cc374": {
          "model_module": "@jupyter-widgets/controls",
          "model_name": "FloatProgressModel",
          "model_module_version": "1.5.0",
          "state": {
            "_dom_classes": [],
            "_model_module": "@jupyter-widgets/controls",
            "_model_module_version": "1.5.0",
            "_model_name": "FloatProgressModel",
            "_view_count": null,
            "_view_module": "@jupyter-widgets/controls",
            "_view_module_version": "1.5.0",
            "_view_name": "ProgressView",
            "bar_style": "success",
            "description": "",
            "description_tooltip": null,
            "layout": "IPY_MODEL_fe8e33b2c01144f18a1bdc692f53a66e",
            "max": 871891,
            "min": 0,
            "orientation": "horizontal",
            "style": "IPY_MODEL_66253954a62f405e9b2c0e91b8bc0522",
            "value": 871891
          }
        },
        "767e422e457d484dad73dfaf18a7f23f": {
          "model_module": "@jupyter-widgets/controls",
          "model_name": "HTMLModel",
          "model_module_version": "1.5.0",
          "state": {
            "_dom_classes": [],
            "_model_module": "@jupyter-widgets/controls",
            "_model_module_version": "1.5.0",
            "_model_name": "HTMLModel",
            "_view_count": null,
            "_view_module": "@jupyter-widgets/controls",
            "_view_module_version": "1.5.0",
            "_view_name": "HTMLView",
            "description": "",
            "description_tooltip": null,
            "layout": "IPY_MODEL_847ec2517d1c4828a408f93015aaf943",
            "placeholder": "​",
            "style": "IPY_MODEL_e5426658179f40d7be1a1faeecf6299d",
            "value": " 872k/872k [00:00&lt;00:00, 1.75MB/s]"
          }
        },
        "6826de44b62d4eafba1628e98ab4f44e": {
          "model_module": "@jupyter-widgets/base",
          "model_name": "LayoutModel",
          "model_module_version": "1.2.0",
          "state": {
            "_model_module": "@jupyter-widgets/base",
            "_model_module_version": "1.2.0",
            "_model_name": "LayoutModel",
            "_view_count": null,
            "_view_module": "@jupyter-widgets/base",
            "_view_module_version": "1.2.0",
            "_view_name": "LayoutView",
            "align_content": null,
            "align_items": null,
            "align_self": null,
            "border": null,
            "bottom": null,
            "display": null,
            "flex": null,
            "flex_flow": null,
            "grid_area": null,
            "grid_auto_columns": null,
            "grid_auto_flow": null,
            "grid_auto_rows": null,
            "grid_column": null,
            "grid_gap": null,
            "grid_row": null,
            "grid_template_areas": null,
            "grid_template_columns": null,
            "grid_template_rows": null,
            "height": null,
            "justify_content": null,
            "justify_items": null,
            "left": null,
            "margin": null,
            "max_height": null,
            "max_width": null,
            "min_height": null,
            "min_width": null,
            "object_fit": null,
            "object_position": null,
            "order": null,
            "overflow": null,
            "overflow_x": null,
            "overflow_y": null,
            "padding": null,
            "right": null,
            "top": null,
            "visibility": null,
            "width": null
          }
        },
        "20617510baa8421f94bc289972b324fd": {
          "model_module": "@jupyter-widgets/base",
          "model_name": "LayoutModel",
          "model_module_version": "1.2.0",
          "state": {
            "_model_module": "@jupyter-widgets/base",
            "_model_module_version": "1.2.0",
            "_model_name": "LayoutModel",
            "_view_count": null,
            "_view_module": "@jupyter-widgets/base",
            "_view_module_version": "1.2.0",
            "_view_name": "LayoutView",
            "align_content": null,
            "align_items": null,
            "align_self": null,
            "border": null,
            "bottom": null,
            "display": null,
            "flex": null,
            "flex_flow": null,
            "grid_area": null,
            "grid_auto_columns": null,
            "grid_auto_flow": null,
            "grid_auto_rows": null,
            "grid_column": null,
            "grid_gap": null,
            "grid_row": null,
            "grid_template_areas": null,
            "grid_template_columns": null,
            "grid_template_rows": null,
            "height": null,
            "justify_content": null,
            "justify_items": null,
            "left": null,
            "margin": null,
            "max_height": null,
            "max_width": null,
            "min_height": null,
            "min_width": null,
            "object_fit": null,
            "object_position": null,
            "order": null,
            "overflow": null,
            "overflow_x": null,
            "overflow_y": null,
            "padding": null,
            "right": null,
            "top": null,
            "visibility": null,
            "width": null
          }
        },
        "cddec5d93e374a4c8453cec0b0e1994a": {
          "model_module": "@jupyter-widgets/controls",
          "model_name": "DescriptionStyleModel",
          "model_module_version": "1.5.0",
          "state": {
            "_model_module": "@jupyter-widgets/controls",
            "_model_module_version": "1.5.0",
            "_model_name": "DescriptionStyleModel",
            "_view_count": null,
            "_view_module": "@jupyter-widgets/base",
            "_view_module_version": "1.2.0",
            "_view_name": "StyleView",
            "description_width": ""
          }
        },
        "fe8e33b2c01144f18a1bdc692f53a66e": {
          "model_module": "@jupyter-widgets/base",
          "model_name": "LayoutModel",
          "model_module_version": "1.2.0",
          "state": {
            "_model_module": "@jupyter-widgets/base",
            "_model_module_version": "1.2.0",
            "_model_name": "LayoutModel",
            "_view_count": null,
            "_view_module": "@jupyter-widgets/base",
            "_view_module_version": "1.2.0",
            "_view_name": "LayoutView",
            "align_content": null,
            "align_items": null,
            "align_self": null,
            "border": null,
            "bottom": null,
            "display": null,
            "flex": null,
            "flex_flow": null,
            "grid_area": null,
            "grid_auto_columns": null,
            "grid_auto_flow": null,
            "grid_auto_rows": null,
            "grid_column": null,
            "grid_gap": null,
            "grid_row": null,
            "grid_template_areas": null,
            "grid_template_columns": null,
            "grid_template_rows": null,
            "height": null,
            "justify_content": null,
            "justify_items": null,
            "left": null,
            "margin": null,
            "max_height": null,
            "max_width": null,
            "min_height": null,
            "min_width": null,
            "object_fit": null,
            "object_position": null,
            "order": null,
            "overflow": null,
            "overflow_x": null,
            "overflow_y": null,
            "padding": null,
            "right": null,
            "top": null,
            "visibility": null,
            "width": null
          }
        },
        "66253954a62f405e9b2c0e91b8bc0522": {
          "model_module": "@jupyter-widgets/controls",
          "model_name": "ProgressStyleModel",
          "model_module_version": "1.5.0",
          "state": {
            "_model_module": "@jupyter-widgets/controls",
            "_model_module_version": "1.5.0",
            "_model_name": "ProgressStyleModel",
            "_view_count": null,
            "_view_module": "@jupyter-widgets/base",
            "_view_module_version": "1.2.0",
            "_view_name": "StyleView",
            "bar_color": null,
            "description_width": ""
          }
        },
        "847ec2517d1c4828a408f93015aaf943": {
          "model_module": "@jupyter-widgets/base",
          "model_name": "LayoutModel",
          "model_module_version": "1.2.0",
          "state": {
            "_model_module": "@jupyter-widgets/base",
            "_model_module_version": "1.2.0",
            "_model_name": "LayoutModel",
            "_view_count": null,
            "_view_module": "@jupyter-widgets/base",
            "_view_module_version": "1.2.0",
            "_view_name": "LayoutView",
            "align_content": null,
            "align_items": null,
            "align_self": null,
            "border": null,
            "bottom": null,
            "display": null,
            "flex": null,
            "flex_flow": null,
            "grid_area": null,
            "grid_auto_columns": null,
            "grid_auto_flow": null,
            "grid_auto_rows": null,
            "grid_column": null,
            "grid_gap": null,
            "grid_row": null,
            "grid_template_areas": null,
            "grid_template_columns": null,
            "grid_template_rows": null,
            "height": null,
            "justify_content": null,
            "justify_items": null,
            "left": null,
            "margin": null,
            "max_height": null,
            "max_width": null,
            "min_height": null,
            "min_width": null,
            "object_fit": null,
            "object_position": null,
            "order": null,
            "overflow": null,
            "overflow_x": null,
            "overflow_y": null,
            "padding": null,
            "right": null,
            "top": null,
            "visibility": null,
            "width": null
          }
        },
        "e5426658179f40d7be1a1faeecf6299d": {
          "model_module": "@jupyter-widgets/controls",
          "model_name": "DescriptionStyleModel",
          "model_module_version": "1.5.0",
          "state": {
            "_model_module": "@jupyter-widgets/controls",
            "_model_module_version": "1.5.0",
            "_model_name": "DescriptionStyleModel",
            "_view_count": null,
            "_view_module": "@jupyter-widgets/base",
            "_view_module_version": "1.2.0",
            "_view_name": "StyleView",
            "description_width": ""
          }
        },
        "2838eb54850e47c8a23e64278a06d054": {
          "model_module": "@jupyter-widgets/controls",
          "model_name": "HBoxModel",
          "model_module_version": "1.5.0",
          "state": {
            "_dom_classes": [],
            "_model_module": "@jupyter-widgets/controls",
            "_model_module_version": "1.5.0",
            "_model_name": "HBoxModel",
            "_view_count": null,
            "_view_module": "@jupyter-widgets/controls",
            "_view_module_version": "1.5.0",
            "_view_name": "HBoxView",
            "box_style": "",
            "children": [
              "IPY_MODEL_3cf39bfa4d1b47bd88f5c4c02b713a6f",
              "IPY_MODEL_0de90eb2907a4175aff08f8884c95f92",
              "IPY_MODEL_0fd449ff11ee47a3b31615bac94f95e4"
            ],
            "layout": "IPY_MODEL_a5f2cc98649b49f5838d578f08b2cd64"
          }
        },
        "3cf39bfa4d1b47bd88f5c4c02b713a6f": {
          "model_module": "@jupyter-widgets/controls",
          "model_name": "HTMLModel",
          "model_module_version": "1.5.0",
          "state": {
            "_dom_classes": [],
            "_model_module": "@jupyter-widgets/controls",
            "_model_module_version": "1.5.0",
            "_model_name": "HTMLModel",
            "_view_count": null,
            "_view_module": "@jupyter-widgets/controls",
            "_view_module_version": "1.5.0",
            "_view_name": "HTMLView",
            "description": "",
            "description_tooltip": null,
            "layout": "IPY_MODEL_95f471f336e04e4abc88a150e8555ed1",
            "placeholder": "​",
            "style": "IPY_MODEL_cf51f1403d8a4e298c34cb0e008410aa",
            "value": "special_tokens_map.json: 100%"
          }
        },
        "0de90eb2907a4175aff08f8884c95f92": {
          "model_module": "@jupyter-widgets/controls",
          "model_name": "FloatProgressModel",
          "model_module_version": "1.5.0",
          "state": {
            "_dom_classes": [],
            "_model_module": "@jupyter-widgets/controls",
            "_model_module_version": "1.5.0",
            "_model_name": "FloatProgressModel",
            "_view_count": null,
            "_view_module": "@jupyter-widgets/controls",
            "_view_module_version": "1.5.0",
            "_view_name": "ProgressView",
            "bar_style": "success",
            "description": "",
            "description_tooltip": null,
            "layout": "IPY_MODEL_008da3ba4cc34593871824d17582bb88",
            "max": 112,
            "min": 0,
            "orientation": "horizontal",
            "style": "IPY_MODEL_d0e6ff4cbefa48c9836acbed4fcae75c",
            "value": 112
          }
        },
        "0fd449ff11ee47a3b31615bac94f95e4": {
          "model_module": "@jupyter-widgets/controls",
          "model_name": "HTMLModel",
          "model_module_version": "1.5.0",
          "state": {
            "_dom_classes": [],
            "_model_module": "@jupyter-widgets/controls",
            "_model_module_version": "1.5.0",
            "_model_name": "HTMLModel",
            "_view_count": null,
            "_view_module": "@jupyter-widgets/controls",
            "_view_module_version": "1.5.0",
            "_view_name": "HTMLView",
            "description": "",
            "description_tooltip": null,
            "layout": "IPY_MODEL_30b36aead71045c3b1d0defb0ddf7c03",
            "placeholder": "​",
            "style": "IPY_MODEL_8edb41f8438d453b83629fbb8e36f72b",
            "value": " 112/112 [00:00&lt;00:00, 5.03kB/s]"
          }
        },
        "a5f2cc98649b49f5838d578f08b2cd64": {
          "model_module": "@jupyter-widgets/base",
          "model_name": "LayoutModel",
          "model_module_version": "1.2.0",
          "state": {
            "_model_module": "@jupyter-widgets/base",
            "_model_module_version": "1.2.0",
            "_model_name": "LayoutModel",
            "_view_count": null,
            "_view_module": "@jupyter-widgets/base",
            "_view_module_version": "1.2.0",
            "_view_name": "LayoutView",
            "align_content": null,
            "align_items": null,
            "align_self": null,
            "border": null,
            "bottom": null,
            "display": null,
            "flex": null,
            "flex_flow": null,
            "grid_area": null,
            "grid_auto_columns": null,
            "grid_auto_flow": null,
            "grid_auto_rows": null,
            "grid_column": null,
            "grid_gap": null,
            "grid_row": null,
            "grid_template_areas": null,
            "grid_template_columns": null,
            "grid_template_rows": null,
            "height": null,
            "justify_content": null,
            "justify_items": null,
            "left": null,
            "margin": null,
            "max_height": null,
            "max_width": null,
            "min_height": null,
            "min_width": null,
            "object_fit": null,
            "object_position": null,
            "order": null,
            "overflow": null,
            "overflow_x": null,
            "overflow_y": null,
            "padding": null,
            "right": null,
            "top": null,
            "visibility": null,
            "width": null
          }
        },
        "95f471f336e04e4abc88a150e8555ed1": {
          "model_module": "@jupyter-widgets/base",
          "model_name": "LayoutModel",
          "model_module_version": "1.2.0",
          "state": {
            "_model_module": "@jupyter-widgets/base",
            "_model_module_version": "1.2.0",
            "_model_name": "LayoutModel",
            "_view_count": null,
            "_view_module": "@jupyter-widgets/base",
            "_view_module_version": "1.2.0",
            "_view_name": "LayoutView",
            "align_content": null,
            "align_items": null,
            "align_self": null,
            "border": null,
            "bottom": null,
            "display": null,
            "flex": null,
            "flex_flow": null,
            "grid_area": null,
            "grid_auto_columns": null,
            "grid_auto_flow": null,
            "grid_auto_rows": null,
            "grid_column": null,
            "grid_gap": null,
            "grid_row": null,
            "grid_template_areas": null,
            "grid_template_columns": null,
            "grid_template_rows": null,
            "height": null,
            "justify_content": null,
            "justify_items": null,
            "left": null,
            "margin": null,
            "max_height": null,
            "max_width": null,
            "min_height": null,
            "min_width": null,
            "object_fit": null,
            "object_position": null,
            "order": null,
            "overflow": null,
            "overflow_x": null,
            "overflow_y": null,
            "padding": null,
            "right": null,
            "top": null,
            "visibility": null,
            "width": null
          }
        },
        "cf51f1403d8a4e298c34cb0e008410aa": {
          "model_module": "@jupyter-widgets/controls",
          "model_name": "DescriptionStyleModel",
          "model_module_version": "1.5.0",
          "state": {
            "_model_module": "@jupyter-widgets/controls",
            "_model_module_version": "1.5.0",
            "_model_name": "DescriptionStyleModel",
            "_view_count": null,
            "_view_module": "@jupyter-widgets/base",
            "_view_module_version": "1.2.0",
            "_view_name": "StyleView",
            "description_width": ""
          }
        },
        "008da3ba4cc34593871824d17582bb88": {
          "model_module": "@jupyter-widgets/base",
          "model_name": "LayoutModel",
          "model_module_version": "1.2.0",
          "state": {
            "_model_module": "@jupyter-widgets/base",
            "_model_module_version": "1.2.0",
            "_model_name": "LayoutModel",
            "_view_count": null,
            "_view_module": "@jupyter-widgets/base",
            "_view_module_version": "1.2.0",
            "_view_name": "LayoutView",
            "align_content": null,
            "align_items": null,
            "align_self": null,
            "border": null,
            "bottom": null,
            "display": null,
            "flex": null,
            "flex_flow": null,
            "grid_area": null,
            "grid_auto_columns": null,
            "grid_auto_flow": null,
            "grid_auto_rows": null,
            "grid_column": null,
            "grid_gap": null,
            "grid_row": null,
            "grid_template_areas": null,
            "grid_template_columns": null,
            "grid_template_rows": null,
            "height": null,
            "justify_content": null,
            "justify_items": null,
            "left": null,
            "margin": null,
            "max_height": null,
            "max_width": null,
            "min_height": null,
            "min_width": null,
            "object_fit": null,
            "object_position": null,
            "order": null,
            "overflow": null,
            "overflow_x": null,
            "overflow_y": null,
            "padding": null,
            "right": null,
            "top": null,
            "visibility": null,
            "width": null
          }
        },
        "d0e6ff4cbefa48c9836acbed4fcae75c": {
          "model_module": "@jupyter-widgets/controls",
          "model_name": "ProgressStyleModel",
          "model_module_version": "1.5.0",
          "state": {
            "_model_module": "@jupyter-widgets/controls",
            "_model_module_version": "1.5.0",
            "_model_name": "ProgressStyleModel",
            "_view_count": null,
            "_view_module": "@jupyter-widgets/base",
            "_view_module_version": "1.2.0",
            "_view_name": "StyleView",
            "bar_color": null,
            "description_width": ""
          }
        },
        "30b36aead71045c3b1d0defb0ddf7c03": {
          "model_module": "@jupyter-widgets/base",
          "model_name": "LayoutModel",
          "model_module_version": "1.2.0",
          "state": {
            "_model_module": "@jupyter-widgets/base",
            "_model_module_version": "1.2.0",
            "_model_name": "LayoutModel",
            "_view_count": null,
            "_view_module": "@jupyter-widgets/base",
            "_view_module_version": "1.2.0",
            "_view_name": "LayoutView",
            "align_content": null,
            "align_items": null,
            "align_self": null,
            "border": null,
            "bottom": null,
            "display": null,
            "flex": null,
            "flex_flow": null,
            "grid_area": null,
            "grid_auto_columns": null,
            "grid_auto_flow": null,
            "grid_auto_rows": null,
            "grid_column": null,
            "grid_gap": null,
            "grid_row": null,
            "grid_template_areas": null,
            "grid_template_columns": null,
            "grid_template_rows": null,
            "height": null,
            "justify_content": null,
            "justify_items": null,
            "left": null,
            "margin": null,
            "max_height": null,
            "max_width": null,
            "min_height": null,
            "min_width": null,
            "object_fit": null,
            "object_position": null,
            "order": null,
            "overflow": null,
            "overflow_x": null,
            "overflow_y": null,
            "padding": null,
            "right": null,
            "top": null,
            "visibility": null,
            "width": null
          }
        },
        "8edb41f8438d453b83629fbb8e36f72b": {
          "model_module": "@jupyter-widgets/controls",
          "model_name": "DescriptionStyleModel",
          "model_module_version": "1.5.0",
          "state": {
            "_model_module": "@jupyter-widgets/controls",
            "_model_module_version": "1.5.0",
            "_model_name": "DescriptionStyleModel",
            "_view_count": null,
            "_view_module": "@jupyter-widgets/base",
            "_view_module_version": "1.2.0",
            "_view_name": "StyleView",
            "description_width": ""
          }
        },
        "ff553a6de9404b6ab3a834593fb42cfc": {
          "model_module": "@jupyter-widgets/controls",
          "model_name": "HBoxModel",
          "model_module_version": "1.5.0",
          "state": {
            "_dom_classes": [],
            "_model_module": "@jupyter-widgets/controls",
            "_model_module_version": "1.5.0",
            "_model_name": "HBoxModel",
            "_view_count": null,
            "_view_module": "@jupyter-widgets/controls",
            "_view_module_version": "1.5.0",
            "_view_name": "HBoxView",
            "box_style": "",
            "children": [
              "IPY_MODEL_6608e2dd7b5a45878e06d7d241c36e90",
              "IPY_MODEL_67eeea65f85143a79c2e21df56374bc3",
              "IPY_MODEL_581a1e6299c14119a3cad8cd8fbe79bc"
            ],
            "layout": "IPY_MODEL_6b2f344661a3417085510f433a301b07"
          }
        },
        "6608e2dd7b5a45878e06d7d241c36e90": {
          "model_module": "@jupyter-widgets/controls",
          "model_name": "HTMLModel",
          "model_module_version": "1.5.0",
          "state": {
            "_dom_classes": [],
            "_model_module": "@jupyter-widgets/controls",
            "_model_module_version": "1.5.0",
            "_model_name": "HTMLModel",
            "_view_count": null,
            "_view_module": "@jupyter-widgets/controls",
            "_view_module_version": "1.5.0",
            "_view_name": "HTMLView",
            "description": "",
            "description_tooltip": null,
            "layout": "IPY_MODEL_ff4e8cca58d34bf5b9610ded023889e8",
            "placeholder": "​",
            "style": "IPY_MODEL_ee629253a91342a89ec3d87edaefe9f2",
            "value": "pytorch_model.bin: 100%"
          }
        },
        "67eeea65f85143a79c2e21df56374bc3": {
          "model_module": "@jupyter-widgets/controls",
          "model_name": "FloatProgressModel",
          "model_module_version": "1.5.0",
          "state": {
            "_dom_classes": [],
            "_model_module": "@jupyter-widgets/controls",
            "_model_module_version": "1.5.0",
            "_model_name": "FloatProgressModel",
            "_view_count": null,
            "_view_module": "@jupyter-widgets/controls",
            "_view_module_version": "1.5.0",
            "_view_name": "ProgressView",
            "bar_style": "success",
            "description": "",
            "description_tooltip": null,
            "layout": "IPY_MODEL_adde0f981e144597980b6c73c30b02db",
            "max": 669491321,
            "min": 0,
            "orientation": "horizontal",
            "style": "IPY_MODEL_5dd47f4052584d95a52d8db2af429d49",
            "value": 669491321
          }
        },
        "581a1e6299c14119a3cad8cd8fbe79bc": {
          "model_module": "@jupyter-widgets/controls",
          "model_name": "HTMLModel",
          "model_module_version": "1.5.0",
          "state": {
            "_dom_classes": [],
            "_model_module": "@jupyter-widgets/controls",
            "_model_module_version": "1.5.0",
            "_model_name": "HTMLModel",
            "_view_count": null,
            "_view_module": "@jupyter-widgets/controls",
            "_view_module_version": "1.5.0",
            "_view_name": "HTMLView",
            "description": "",
            "description_tooltip": null,
            "layout": "IPY_MODEL_d4b87ab26b224e78b46fc0a94b9424f3",
            "placeholder": "​",
            "style": "IPY_MODEL_6cd7fb0cbb284b8b8a450c5d456cdfc1",
            "value": " 669M/669M [00:08&lt;00:00, 133MB/s]"
          }
        },
        "6b2f344661a3417085510f433a301b07": {
          "model_module": "@jupyter-widgets/base",
          "model_name": "LayoutModel",
          "model_module_version": "1.2.0",
          "state": {
            "_model_module": "@jupyter-widgets/base",
            "_model_module_version": "1.2.0",
            "_model_name": "LayoutModel",
            "_view_count": null,
            "_view_module": "@jupyter-widgets/base",
            "_view_module_version": "1.2.0",
            "_view_name": "LayoutView",
            "align_content": null,
            "align_items": null,
            "align_self": null,
            "border": null,
            "bottom": null,
            "display": null,
            "flex": null,
            "flex_flow": null,
            "grid_area": null,
            "grid_auto_columns": null,
            "grid_auto_flow": null,
            "grid_auto_rows": null,
            "grid_column": null,
            "grid_gap": null,
            "grid_row": null,
            "grid_template_areas": null,
            "grid_template_columns": null,
            "grid_template_rows": null,
            "height": null,
            "justify_content": null,
            "justify_items": null,
            "left": null,
            "margin": null,
            "max_height": null,
            "max_width": null,
            "min_height": null,
            "min_width": null,
            "object_fit": null,
            "object_position": null,
            "order": null,
            "overflow": null,
            "overflow_x": null,
            "overflow_y": null,
            "padding": null,
            "right": null,
            "top": null,
            "visibility": null,
            "width": null
          }
        },
        "ff4e8cca58d34bf5b9610ded023889e8": {
          "model_module": "@jupyter-widgets/base",
          "model_name": "LayoutModel",
          "model_module_version": "1.2.0",
          "state": {
            "_model_module": "@jupyter-widgets/base",
            "_model_module_version": "1.2.0",
            "_model_name": "LayoutModel",
            "_view_count": null,
            "_view_module": "@jupyter-widgets/base",
            "_view_module_version": "1.2.0",
            "_view_name": "LayoutView",
            "align_content": null,
            "align_items": null,
            "align_self": null,
            "border": null,
            "bottom": null,
            "display": null,
            "flex": null,
            "flex_flow": null,
            "grid_area": null,
            "grid_auto_columns": null,
            "grid_auto_flow": null,
            "grid_auto_rows": null,
            "grid_column": null,
            "grid_gap": null,
            "grid_row": null,
            "grid_template_areas": null,
            "grid_template_columns": null,
            "grid_template_rows": null,
            "height": null,
            "justify_content": null,
            "justify_items": null,
            "left": null,
            "margin": null,
            "max_height": null,
            "max_width": null,
            "min_height": null,
            "min_width": null,
            "object_fit": null,
            "object_position": null,
            "order": null,
            "overflow": null,
            "overflow_x": null,
            "overflow_y": null,
            "padding": null,
            "right": null,
            "top": null,
            "visibility": null,
            "width": null
          }
        },
        "ee629253a91342a89ec3d87edaefe9f2": {
          "model_module": "@jupyter-widgets/controls",
          "model_name": "DescriptionStyleModel",
          "model_module_version": "1.5.0",
          "state": {
            "_model_module": "@jupyter-widgets/controls",
            "_model_module_version": "1.5.0",
            "_model_name": "DescriptionStyleModel",
            "_view_count": null,
            "_view_module": "@jupyter-widgets/base",
            "_view_module_version": "1.2.0",
            "_view_name": "StyleView",
            "description_width": ""
          }
        },
        "adde0f981e144597980b6c73c30b02db": {
          "model_module": "@jupyter-widgets/base",
          "model_name": "LayoutModel",
          "model_module_version": "1.2.0",
          "state": {
            "_model_module": "@jupyter-widgets/base",
            "_model_module_version": "1.2.0",
            "_model_name": "LayoutModel",
            "_view_count": null,
            "_view_module": "@jupyter-widgets/base",
            "_view_module_version": "1.2.0",
            "_view_name": "LayoutView",
            "align_content": null,
            "align_items": null,
            "align_self": null,
            "border": null,
            "bottom": null,
            "display": null,
            "flex": null,
            "flex_flow": null,
            "grid_area": null,
            "grid_auto_columns": null,
            "grid_auto_flow": null,
            "grid_auto_rows": null,
            "grid_column": null,
            "grid_gap": null,
            "grid_row": null,
            "grid_template_areas": null,
            "grid_template_columns": null,
            "grid_template_rows": null,
            "height": null,
            "justify_content": null,
            "justify_items": null,
            "left": null,
            "margin": null,
            "max_height": null,
            "max_width": null,
            "min_height": null,
            "min_width": null,
            "object_fit": null,
            "object_position": null,
            "order": null,
            "overflow": null,
            "overflow_x": null,
            "overflow_y": null,
            "padding": null,
            "right": null,
            "top": null,
            "visibility": null,
            "width": null
          }
        },
        "5dd47f4052584d95a52d8db2af429d49": {
          "model_module": "@jupyter-widgets/controls",
          "model_name": "ProgressStyleModel",
          "model_module_version": "1.5.0",
          "state": {
            "_model_module": "@jupyter-widgets/controls",
            "_model_module_version": "1.5.0",
            "_model_name": "ProgressStyleModel",
            "_view_count": null,
            "_view_module": "@jupyter-widgets/base",
            "_view_module_version": "1.2.0",
            "_view_name": "StyleView",
            "bar_color": null,
            "description_width": ""
          }
        },
        "d4b87ab26b224e78b46fc0a94b9424f3": {
          "model_module": "@jupyter-widgets/base",
          "model_name": "LayoutModel",
          "model_module_version": "1.2.0",
          "state": {
            "_model_module": "@jupyter-widgets/base",
            "_model_module_version": "1.2.0",
            "_model_name": "LayoutModel",
            "_view_count": null,
            "_view_module": "@jupyter-widgets/base",
            "_view_module_version": "1.2.0",
            "_view_name": "LayoutView",
            "align_content": null,
            "align_items": null,
            "align_self": null,
            "border": null,
            "bottom": null,
            "display": null,
            "flex": null,
            "flex_flow": null,
            "grid_area": null,
            "grid_auto_columns": null,
            "grid_auto_flow": null,
            "grid_auto_rows": null,
            "grid_column": null,
            "grid_gap": null,
            "grid_row": null,
            "grid_template_areas": null,
            "grid_template_columns": null,
            "grid_template_rows": null,
            "height": null,
            "justify_content": null,
            "justify_items": null,
            "left": null,
            "margin": null,
            "max_height": null,
            "max_width": null,
            "min_height": null,
            "min_width": null,
            "object_fit": null,
            "object_position": null,
            "order": null,
            "overflow": null,
            "overflow_x": null,
            "overflow_y": null,
            "padding": null,
            "right": null,
            "top": null,
            "visibility": null,
            "width": null
          }
        },
        "6cd7fb0cbb284b8b8a450c5d456cdfc1": {
          "model_module": "@jupyter-widgets/controls",
          "model_name": "DescriptionStyleModel",
          "model_module_version": "1.5.0",
          "state": {
            "_model_module": "@jupyter-widgets/controls",
            "_model_module_version": "1.5.0",
            "_model_name": "DescriptionStyleModel",
            "_view_count": null,
            "_view_module": "@jupyter-widgets/base",
            "_view_module_version": "1.2.0",
            "_view_name": "StyleView",
            "description_width": ""
          }
        }
      }
    },
    "colab": {
      "provenance": [],
      "gpuType": "T4",
      "include_colab_link": true
    },
    "accelerator": "GPU"
  },
  "nbformat": 4,
  "nbformat_minor": 5
}